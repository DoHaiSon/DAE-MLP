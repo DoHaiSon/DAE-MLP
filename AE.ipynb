{
  "cells": [
    {
      "cell_type": "code",
      "execution_count": 1,
      "metadata": {
        "id": "6uFq9eWOXnl0"
      },
      "outputs": [],
      "source": [
        "import pandas as pd\n",
        "pd.options.mode.chained_assignment = None  # default='warn'\n",
        "from notebook.services.config import ConfigManager\n",
        "cm = ConfigManager().update('notebook', {'limit_output': 20})\n",
        "import numpy as np\n",
        "import matplotlib.pyplot as plt\n",
        "import tensorflow as tf\n",
        "from tensorflow import keras\n",
        "from sklearn.metrics import accuracy_score, confusion_matrix, classification_report, ConfusionMatrixDisplay\n",
        "from sklearn.preprocessing import OneHotEncoder, MinMaxScaler\n",
        "from sklearn.model_selection import train_test_split\n",
        "import seaborn as sns"
      ]
    },
    {
      "cell_type": "code",
      "execution_count": 2,
      "metadata": {
        "colab": {
          "base_uri": "https://localhost:8080/",
          "height": 487
        },
        "id": "yn5nspAuaFKa",
        "outputId": "6b8c33d5-f90f-4f14-ab49-58eddc73557e"
      },
      "outputs": [],
      "source": [
        "Nor_path = \"./Dataset/Normal_mixed.csv\"\n",
        "col_names = [\"duration\", \"protocol_type\", \"service\", \"flag\", \"src_bytes\", \"dst_bytes\",\n",
        "                \"land\", \"wrong_fragment\", \"urgent\", \"count\", \"srv_count\", \"serror_rate\",\n",
        "                \"srv_serror_rate\", \"rerror_rate\", \"srv_rerror_rate\", \"same_srv_rate\",\n",
        "                \"diff_srv_rate\", \"srv_diff_host_rate\", \"dst_host_count\", \"dst_host_srv_count\",\n",
        "                \"dst_host_same_srv_rate\", \"dst_host_diff_srv_rate\", \"dst_host_same_src_port_rate\",\n",
        "                \"dst_host_srv_diff_host_rate\", \"dst_host_serror_rate\", \"dst_host_srv_serror_rate\",\n",
        "                \"dst_host_rerror_rate\", \"dst_host_srv_rerror_rate\", \"label\"]\n",
        "Nor_df = pd.read_csv(Nor_path, header=None,names= col_names, nrows= 600000)"
      ]
    },
    {
      "cell_type": "code",
      "execution_count": 3,
      "metadata": {
        "colab": {
          "base_uri": "https://localhost:8080/",
          "height": 487
        },
        "id": "1XsOye7gfrZn",
        "outputId": "dcf538e5-8627-4d38-92a9-eac28001e26a"
      },
      "outputs": [],
      "source": [
        "Abnor_path = \"./Dataset/Abnormal.csv\"\n",
        "Abnor_df = pd.read_csv(Abnor_path, header=None,names= col_names, nrows= 500000)"
      ]
    },
    {
      "cell_type": "code",
      "execution_count": 4,
      "metadata": {},
      "outputs": [],
      "source": [
        "Kdd_path = \"./Dataset/kdd99_extracted.csv\"\n",
        "kdd99_df = pd.read_csv(Kdd_path, header=None,names= col_names, nrows= 400000)\n",
        "\n",
        "kdd99_nor = kdd99_df[kdd99_df['label'] == 'Normal']\n",
        "kdd99_abnor = kdd99_df[kdd99_df['label'] != 'Normal']"
      ]
    },
    {
      "cell_type": "code",
      "execution_count": 5,
      "metadata": {},
      "outputs": [],
      "source": [
        "Train_nor_kdd99, Test_nor_kdd99 = train_test_split(kdd99_nor, test_size=0.3, random_state=1)\n",
        "Train_abnor_kdd99, Test_abnor_kdd99 = train_test_split(kdd99_abnor, test_size=0.3, random_state=1) \n",
        "\n",
        "Train_kdd99 = pd.concat([Train_nor_kdd99, Train_abnor_kdd99], ignore_index=True)\n",
        "Test_kdd99 = pd.concat([Test_nor_kdd99, Test_abnor_kdd99], ignore_index=True)"
      ]
    },
    {
      "cell_type": "code",
      "execution_count": 6,
      "metadata": {},
      "outputs": [],
      "source": [
        "#Test ver 1: 4 classes attacks\n",
        "Abnor_df_v1 = Abnor_df[Abnor_df['label'].isin(['FoT', 'DoS', 'DoS_Gas','BP'])]\n",
        "\n",
        "#Test Ver 2:3 classes attacks\n",
        "Abnor_df_v2 = Abnor_df[Abnor_df['label'].isin(['BP', 'DoS', 'DoS_Gas'])]\n",
        "\n",
        "#Test ver 3: 2 classes attacks\n",
        "Abnor_df_v3 = Abnor_df[Abnor_df['label'].isin(['BP', 'DoS'])]\n",
        "\n",
        "#Test ver 4: 1 class attack\n",
        "Abnor_df_v4 = Abnor_df[Abnor_df['label'].isin(['DoS'])]\n"
      ]
    },
    {
      "cell_type": "code",
      "execution_count": 7,
      "metadata": {},
      "outputs": [],
      "source": [
        "Train_nor, Test_nor = train_test_split(Nor_df, test_size=0.2, random_state=1)\n",
        "Train_abnor, Test_abnor = train_test_split(Abnor_df, test_size=0.2, random_state=1) \n",
        "\n",
        "Train = pd.concat([Train_nor, Train_abnor], ignore_index=True)\n",
        "Test = pd.concat([Test_nor, Test_abnor], ignore_index=True)"
      ]
    },
    {
      "cell_type": "code",
      "execution_count": 8,
      "metadata": {},
      "outputs": [],
      "source": [
        "Train_4classes = Train_abnor[Train_abnor['label'].isin(['FoT', 'DoS', 'DoS_Gas','BP'])]\n",
        "\n",
        "Train_3classes = Train_abnor[Train_abnor['label'].isin(['DoS', 'DoS_Gas','BP'])]\n",
        "\n",
        "Train_2classes = Train_abnor[Train_abnor['label'].isin(['DoS','BP'])]\n",
        "\n",
        "Train_1class = Train_abnor[Train_abnor['label'].isin(['DoS'])]"
      ]
    },
    {
      "cell_type": "code",
      "execution_count": 9,
      "metadata": {},
      "outputs": [],
      "source": [
        "def one_hot_encode(data):\n",
        "    unique_labels = [\n",
        "    [\"tcp\", \"udp\", \"icmp\"],\n",
        "    [\"other\", \"private\", \"ecr_i\", \"urp_i\", \"urh_i\", \"red_i\", \"eco_i\", \"tim_i\", \"oth_i\", \"domain_u\", \"tftp_u\", \"ntp_u\", \"IRC\", \n",
        "                \"X11\", \"Z39_50\", \"aol\", \"auth\", \"bgp\", \"courier\", \"csnet_ns\", \"ctf\", \"daytime\", \"discard\", \"domain\", \"echo\", \"efs\", \"exec\", \n",
        "                \"finger\", \"ftp\", \"ftp_data\", \"gopher\", \"harvest\", \"hostnames\", \"http\", \"http_2784\", \"http_443\", \"http_8001\", \"icmp\", \"imap4\",\n",
        "                \"iso_tsap\", \"klogin\", \"kshell\", \"ldap\", \"link\", \"login\", \"mtp\", \"name\", \"netbios_dgm\", \"netbios_ns\", \"netbios_ssn\", \"netstat\",\n",
        "                \"nnsp\", \"nntp\", \"pm_dump\", \"pop_2\", \"pop_3\", \"printer\", \"remote_job\", \"rje\", \"shell\", \"smtp\", \"sql_net\", \"ssh\", \"sunrpc\", \n",
        "                \"supdup\", \"systat\", \"telnet\", \"time\", \"uucp\", \"uucp_path\", \"vmnet\", \"whois\"],\n",
        "    [\"SF\", \"S0\", \"S1\", \"S2\", \"S3\", \"REJ\", \"RSTOS0\", \"RSTO\", \"RSTR\", \"SH\", \"RSTRH\", \"SHR\", \"OTH\"],\n",
        "    [\"Normal\",\"OaU\",\"DoS\",\"DoS_Gas\",\"FoT\",\"BP\"]\n",
        "    ]\n",
        "    encoded_data = []\n",
        "    # Thực hiện mã hóa one-hot\n",
        "    for row in data:\n",
        "        encoding = []\n",
        "        for i, column_value in enumerate(row):\n",
        "            unique_column_values = unique_labels[i]\n",
        "            encoding.extend([1 if column_value == unique else 0 for unique in unique_column_values])\n",
        "        encoded_data.append(encoding)\n",
        "    return np.array(encoded_data)"
      ]
    },
    {
      "cell_type": "code",
      "execution_count": 10,
      "metadata": {},
      "outputs": [],
      "source": [
        "encoder = OneHotEncoder( handle_unknown='ignore')\n",
        "scaler = MinMaxScaler()"
      ]
    },
    {
      "cell_type": "code",
      "execution_count": 11,
      "metadata": {},
      "outputs": [],
      "source": [
        "def preprocess_test(df, is_fit=True):\n",
        "    # chuyển normal thành 1 và các lớp khác thành 0\n",
        "    label = df['label'].map(lambda x: 'Abnormal' if x != 'Normal' else x)\n",
        "\n",
        "    # loại bỏ cột dữ liệu không cần thiết\n",
        "    #df = df.drop([\"label\"], axis=1)\n",
        "    df = df.drop([\"land\", \"wrong_fragment\",  \"urgent\", \"rerror_rate\",  \"srv_rerror_rate\", \"dst_host_rerror_rate\", \"dst_host_srv_rerror_rate\", \"label\"], axis=1)\n",
        "\n",
        "    # chia dữ liệu ra số, chữ để tiện xử lý\n",
        "    numerical_data = df.select_dtypes(exclude='object').values\n",
        "    categorical_data = df.select_dtypes(include='object').values\n",
        "\n",
        "    categorical_data = one_hot_encode(categorical_data)\n",
        "\n",
        "    # nối dữ liệu số và onehot lại\n",
        "    data = np.concatenate([numerical_data, categorical_data], axis=1)\n",
        "\n",
        "    # chỉ fit với dữ liệu train\n",
        "    if is_fit:\n",
        "        scaler.fit(data)\n",
        "\n",
        "    # dữ liệu chuẩn hóa về dạng [0, 1]\n",
        "    data = scaler.transform(data)\n",
        "\n",
        "    return dict(data=data, label=label)"
      ]
    },
    {
      "cell_type": "code",
      "execution_count": 12,
      "metadata": {},
      "outputs": [],
      "source": [
        "def preprocess(df, is_fit=True):\n",
        "    # chuyển normal thành 1 và các lớp khác thành 0\n",
        "    label = df['label'].map(lambda x: 'Abnormal' if x != 'Normal' else x)\n",
        "\n",
        "    # loại bỏ cột dữ liệu không cần thiết\n",
        "    df = df.drop([\"land\", \"wrong_fragment\",  \"urgent\", \"rerror_rate\",  \"srv_rerror_rate\", \"dst_host_rerror_rate\", \"dst_host_srv_rerror_rate\", \"label\"], axis=1)\n",
        "\n",
        "    # chia dữ liệu ra số, chữ để tiện xử lý\n",
        "    numerical_data = df.select_dtypes(exclude='object').values\n",
        "    categorical_data = df.select_dtypes(include='object').values\n",
        "\n",
        "    # chỉ fit với dữ liệu train\n",
        "    if is_fit:\n",
        "        encoder.fit(categorical_data)\n",
        "\n",
        "    # chuyển từ dữ liệu chữ sang onehot\n",
        "    categorical_data = encoder.transform(categorical_data).toarray()\n",
        "\n",
        "    # nối dữ liệu số và onehot lại\n",
        "    data = np.concatenate([numerical_data, categorical_data], axis=1)\n",
        "\n",
        "    # chỉ fit với dữ liệu train\n",
        "    if is_fit:\n",
        "        scaler.fit(data)\n",
        "\n",
        "    # dữ liệu chuẩn hóa về dạng [0, 1]\n",
        "    data = scaler.transform(data)\n",
        "\n",
        "    return dict(data=data, label=label)"
      ]
    },
    {
      "cell_type": "code",
      "execution_count": 13,
      "metadata": {},
      "outputs": [],
      "source": [
        "#Dùng hàm preprocess_test\n",
        "Train_nor = preprocess_test(Train_nor, True)\n",
        "Train_abnor = preprocess_test(Train_abnor, False)"
      ]
    },
    {
      "cell_type": "code",
      "execution_count": 14,
      "metadata": {},
      "outputs": [
        {
          "data": {
            "text/plain": [
              "((480000, 106), (293936, 106))"
            ]
          },
          "execution_count": 14,
          "metadata": {},
          "output_type": "execute_result"
        }
      ],
      "source": [
        "Train_nor['data'].shape , Train_abnor['data'].shape"
      ]
    },
    {
      "cell_type": "code",
      "execution_count": 15,
      "metadata": {},
      "outputs": [],
      "source": [
        "test = preprocess_test(Test, False)\n",
        "Test_nor = test['data'][test['label'] == 'Normal']\n",
        "Test_abnor = test['data'][test['label'] == 'Abnormal']"
      ]
    },
    {
      "cell_type": "code",
      "execution_count": 16,
      "metadata": {},
      "outputs": [
        {
          "data": {
            "text/plain": [
              "((120000, 106), (73484, 106))"
            ]
          },
          "execution_count": 16,
          "metadata": {},
          "output_type": "execute_result"
        }
      ],
      "source": [
        "Test_nor.shape , Test_abnor.shape"
      ]
    },
    {
      "cell_type": "code",
      "execution_count": 17,
      "metadata": {},
      "outputs": [],
      "source": [
        "# Train_nor = preprocess(Train_nor, True)\n",
        "# Train_abnor = preprocess(Train_abnor, False)"
      ]
    },
    {
      "cell_type": "code",
      "execution_count": 18,
      "metadata": {},
      "outputs": [],
      "source": [
        "Train_abnor_4clss = preprocess_test(Train_4classes, False)\n",
        "\n",
        "Train_abnor_3clss = preprocess_test(Train_3classes, False)\n",
        "\n",
        "Train_abnor_2clss = preprocess_test(Train_2classes, False)\n",
        "\n",
        "Train_abnor_1clss = preprocess_test(Train_1class, False)"
      ]
    },
    {
      "cell_type": "code",
      "execution_count": 19,
      "metadata": {},
      "outputs": [
        {
          "data": {
            "text/plain": [
              "(100415, 106)"
            ]
          },
          "execution_count": 19,
          "metadata": {},
          "output_type": "execute_result"
        }
      ],
      "source": [
        "Train_abnor_2clss['data'].shape"
      ]
    },
    {
      "cell_type": "code",
      "execution_count": 20,
      "metadata": {},
      "outputs": [],
      "source": [
        "Test_4class =  Test[Test['label'].isin(['FoT','DoS_Gas','DoS','BP','Normal'])]\n",
        "\n",
        "Test_3class =  Test[Test['label'].isin(['DoS_Gas','DoS','BP','Normal'])]\n",
        "\n",
        "Test_2class =  Test[Test['label'].isin(['DoS','BP','Normal'])]\n",
        "\n",
        "Test_1class =  Test[Test['label'].isin(['DoS','Normal'])]"
      ]
    },
    {
      "cell_type": "code",
      "execution_count": 21,
      "metadata": {},
      "outputs": [
        {
          "data": {
            "text/plain": [
              "array(['Normal', 'BP', 'DoS_Gas', 'DoS'], dtype=object)"
            ]
          },
          "execution_count": 21,
          "metadata": {},
          "output_type": "execute_result"
        }
      ],
      "source": [
        "Test_3class['label'].unique()"
      ]
    },
    {
      "cell_type": "code",
      "execution_count": 22,
      "metadata": {},
      "outputs": [],
      "source": [
        "# #Trường hợp 4 classes\n",
        "# test = preprocess_test(Test_4class, False)\n",
        "# Test_nor = test['data'][test['label'] == 'Normal']\n",
        "# Test_abnor = test['data'][test['label'] == 'Abnormal']"
      ]
    },
    {
      "cell_type": "code",
      "execution_count": 23,
      "metadata": {},
      "outputs": [],
      "source": [
        "# #Trường hợp 3 classes\n",
        "# test = preprocess_test(Test_3class, False)\n",
        "# Test_nor = test['data'][test['label'] == 'Normal']\n",
        "# Test_abnor = test['data'][test['label'] == 'Abnormal']"
      ]
    },
    {
      "cell_type": "code",
      "execution_count": 24,
      "metadata": {},
      "outputs": [],
      "source": [
        "# #Trường hợp 2 classes\n",
        "# test = preprocess_test(Test_2class, False)\n",
        "# Test_nor = test['data'][test['label'] == 'Normal']\n",
        "# Test_abnor = test['data'][test['label'] == 'Abnormal']"
      ]
    },
    {
      "cell_type": "code",
      "execution_count": 25,
      "metadata": {},
      "outputs": [],
      "source": [
        "# #Trường hợp 1 class\n",
        "# test = preprocess_test(Test_1class, False)\n",
        "# Test_nor = test['data'][test['label'] == 'Normal']\n",
        "# Test_abnor = test['data'][test['label'] == 'Abnormal']"
      ]
    },
    {
      "cell_type": "code",
      "execution_count": 26,
      "metadata": {
        "id": "PhScwCsapMEI"
      },
      "outputs": [],
      "source": [
        "class Autoencoder(keras.Model):\n",
        "  def __init__(self, input_dim):\n",
        "    super(Autoencoder, self).__init__()\n",
        "    self.encoder = keras.Sequential([\n",
        "      keras.layers.Dense(input_dim, activation='tanh'),\n",
        "      keras.layers.Dense(52, activation='tanh'),\n",
        "      keras.layers.Dense(26, activation='tanh'),\n",
        "      keras.layers.Dense(13, activation='tanh')\n",
        "    ])\n",
        "    self.decoder = keras.Sequential([\n",
        "      #keras.layers.Dense(13, activation='tanh'),\n",
        "      keras.layers.Dense(26, activation='tanh'),\n",
        "      keras.layers.Dense(52, activation='tanh'),\n",
        "      keras.layers.Dense(input_dim, activation='sigmoid'),\n",
        "    ])\n",
        "\n",
        "  def call(self, x):\n",
        "    code = self.encoder(x)\n",
        "    r = self.decoder(code)\n",
        "    return r\n",
        "\n",
        "  def get_reconstruction_error(self, x, batch_size=10000):\n",
        "    r = self.predict(x, batch_size)\n",
        "    return keras.metrics.mean_squared_error(x, r)\n",
        "\n",
        "  def predict_class(self, x, threshold, batch_size=10000):\n",
        "    reconstruction_error = self.get_reconstruction_error(x, batch_size)\n",
        "    return np.where(reconstruction_error <= threshold, 'Normal', 'Abnormal')"
      ]
    },
    {
      "cell_type": "code",
      "execution_count": 27,
      "metadata": {
        "id": "MyqtXuQNpThH"
      },
      "outputs": [],
      "source": [
        "model = Autoencoder(Train_nor['data'].shape[1])\n",
        "optimizer = keras.optimizers.Adam(learning_rate=0.0001)\n",
        "loss_fn = keras.losses.MeanSquaredError()\n",
        "model.compile(optimizer, loss_fn)"
      ]
    },
    {
      "cell_type": "code",
      "execution_count": 28,
      "metadata": {
        "colab": {
          "base_uri": "https://localhost:8080/"
        },
        "id": "v4QuVTLSpWS_",
        "outputId": "4a643efb-0f06-4287-bb08-38f7a41efd7a"
      },
      "outputs": [],
      "source": [
        "# model.fit(Train_nor['data'], Train_nor['data'], batch_size=64, epochs=200, shuffle=True)"
      ]
    },
    {
      "cell_type": "code",
      "execution_count": 29,
      "metadata": {},
      "outputs": [
        {
          "data": {
            "text/plain": [
              "<tensorflow.python.checkpoint.checkpoint.CheckpointLoadStatus at 0x2a8640c3f40>"
            ]
          },
          "execution_count": 29,
          "metadata": {},
          "output_type": "execute_result"
        }
      ],
      "source": [
        "#model.save('Model/AE_fullclass_200_new.model', save_format='tf')  # The file needs to end with the .keras extension\n",
        "\n",
        "model_path = 'Model/AE_fullclass_200_new.model'\n",
        "model.load_weights(model_path)"
      ]
    },
    {
      "cell_type": "code",
      "execution_count": 30,
      "metadata": {
        "colab": {
          "base_uri": "https://localhost:8080/"
        },
        "id": "xcLTa9lNyZDC",
        "outputId": "ea9b9f99-750c-4ba1-fdb6-0236106e6e81"
      },
      "outputs": [
        {
          "name": "stdout",
          "output_type": "stream",
          "text": [
            "48/48 [==============================] - 1s 16ms/step\n",
            "30/30 [==============================] - 1s 15ms/step\n",
            "12/12 [==============================] - 0s 17ms/step\n",
            "8/8 [==============================] - 0s 20ms/step\n"
          ]
        }
      ],
      "source": [
        "train_normal_re = model.get_reconstruction_error(Train_nor['data'], batch_size=10000)\n",
        "train_abnormal_re = model.get_reconstruction_error(Train_abnor['data'], batch_size=10000)\n",
        "\n",
        "test_normal_re = model.get_reconstruction_error(Test_nor, batch_size=10000)\n",
        "test_abnormal_re = model.get_reconstruction_error(Test_abnor, batch_size=10000)"
      ]
    },
    {
      "cell_type": "code",
      "execution_count": 31,
      "metadata": {},
      "outputs": [],
      "source": [
        "sigma = 5\n",
        "alpha = 0.5"
      ]
    },
    {
      "cell_type": "code",
      "execution_count": 39,
      "metadata": {},
      "outputs": [
        {
          "data": {
            "text/plain": [
              "8.027085959838585e-06"
            ]
          },
          "execution_count": 39,
          "metadata": {},
          "output_type": "execute_result"
        }
      ],
      "source": [
        "sigma_threshold = np.percentile(train_normal_re, 100 - sigma)\n",
        "sigma_threshold"
      ]
    },
    {
      "cell_type": "code",
      "execution_count": 38,
      "metadata": {},
      "outputs": [
        {
          "name": "stdout",
          "output_type": "stream",
          "text": [
            "Ngưỡng vừa tìm được: 0.00028194053447805345\n"
          ]
        }
      ],
      "source": [
        "alpha = 0.5\n",
        "threshold = np.concatenate([train_normal_re,train_abnormal_re]).mean() * alpha\n",
        "print('Ngưỡng vừa tìm được:', threshold)"
      ]
    },
    {
      "cell_type": "code",
      "execution_count": 34,
      "metadata": {},
      "outputs": [],
      "source": [
        "Train_nor['data']\n",
        "train = np.concatenate((Train_nor['data'], Train_abnor['data']), axis=0)\n",
        "label = np.concatenate((Train_nor['label'], Train_abnor['label']), axis=0)"
      ]
    },
    {
      "cell_type": "code",
      "execution_count": 36,
      "metadata": {},
      "outputs": [],
      "source": [
        "sigma_threshold = 9.500000000000026e-06"
      ]
    },
    {
      "cell_type": "code",
      "execution_count": 40,
      "metadata": {},
      "outputs": [
        {
          "name": "stdout",
          "output_type": "stream",
          "text": [
            "78/78 [==============================] - 1s 7ms/step\n",
            "Độ chính xác tập huấn luyện với full class: 0.7303950197432346\n",
            "20/20 [==============================] - 0s 7ms/step\n",
            "Độ chính xác tập test với full class: 0.7301792396270492\n"
          ]
        }
      ],
      "source": [
        "# label_predict = model.predict_class(Test_nor, threshold)\n",
        "# print('Độ chính xác tập khi tái tạo normal tập huấn luyện', end=': ')\n",
        "# print(accuracy_score(np.full([2000], 'Normal'), label_predict))\n",
        "\n",
        "label_predict1 = model.predict_class(train, sigma_threshold)\n",
        "print('Độ chính xác tập huấn luyện với full class', end=': ')\n",
        "print(accuracy_score(label, label_predict1))\n",
        "\n",
        "label_predict = model.predict_class(test['data'], sigma_threshold)\n",
        "print('Độ chính xác tập test với full class', end=': ')\n",
        "print(accuracy_score(test['label'], label_predict))\n",
        "\n",
        "# labels = ['Normal', 'Abnormal']\n",
        "\n",
        "# matrix2 = confusion_matrix(label, label_predict1)\n",
        "# disp1 = ConfusionMatrixDisplay(\n",
        "#     confusion_matrix=matrix2, display_labels=labels)\n",
        "\n",
        "# disp1.plot(cmap=plt.cm.Blues)\n",
        "# print(classification_report(label,label_predict1,target_names=labels))\n",
        "# print(classification_report(test['label'],label_predict,target_names=labels))"
      ]
    },
    {
      "cell_type": "code",
      "execution_count": 48,
      "metadata": {},
      "outputs": [
        {
          "name": "stdout",
          "output_type": "stream",
          "text": [
            "78/78 [==============================] - 1s 8ms/step\n",
            "Accuracy: 0.730325246532013 \n",
            "Threshold: 8.1e-06\n",
            "78/78 [==============================] - 1s 7ms/step\n",
            "Accuracy: 0.7306017551838911 \n",
            "Threshold: 8.200000000000001e-06\n",
            "78/78 [==============================] - 1s 7ms/step\n",
            "Accuracy: 0.7308071985280437 \n",
            "Threshold: 8.300000000000002e-06\n",
            "78/78 [==============================] - 1s 7ms/step\n",
            "Accuracy: 0.7309454528539827 \n",
            "Threshold: 8.400000000000003e-06\n",
            "78/78 [==============================] - 1s 7ms/step\n",
            "Accuracy: 0.7310643257323604 \n",
            "Threshold: 8.500000000000003e-06\n",
            "78/78 [==============================] - 1s 7ms/step\n",
            "Accuracy: 0.7311922432862665 \n",
            "Threshold: 8.600000000000004e-06\n",
            "78/78 [==============================] - 1s 7ms/step\n",
            "Accuracy: 0.7313524632527755 \n",
            "Threshold: 8.700000000000005e-06\n",
            "78/78 [==============================] - 1s 7ms/step\n",
            "Accuracy: 0.7315062227367638 \n",
            "Threshold: 8.800000000000006e-06\n",
            "78/78 [==============================] - 1s 7ms/step\n",
            "Accuracy: 0.7315915011060347 \n",
            "Threshold: 8.900000000000006e-06\n",
            "78/78 [==============================] - 1s 7ms/step\n",
            "Accuracy: 0.7316690268962809 \n",
            "Threshold: 9.000000000000007e-06\n",
            "78/78 [==============================] - 1s 7ms/step\n",
            "Accuracy: 0.7317478447830311 \n",
            "Threshold: 9.100000000000008e-06\n",
            "78/78 [==============================] - 1s 7ms/step\n",
            "Accuracy: 0.7318421678278307 \n",
            "Threshold: 9.200000000000008e-06\n",
            "78/78 [==============================] - 1s 7ms/step\n",
            "Accuracy: 0.7319339066796221 \n",
            "Threshold: 9.30000000000001e-06\n",
            "78/78 [==============================] - 1s 7ms/step\n",
            "Accuracy: 0.7319403671621426 \n",
            "Threshold: 9.40000000000001e-06\n",
            "78/78 [==============================] - 1s 7ms/step\n",
            "Accuracy: 0.731983006346778 \n",
            "Threshold: 9.50000000000001e-06\n",
            "78/78 [==============================] - 1s 7ms/step\n",
            "Accuracy: 0.731883514915962 \n",
            "Threshold: 9.600000000000011e-06\n",
            "78/78 [==============================] - 1s 8ms/step\n",
            "Accuracy: 0.7319145252320606 \n",
            "Threshold: 9.700000000000012e-06\n",
            "78/78 [==============================] - 1s 7ms/step\n",
            "Accuracy: 0.7318822228194579 \n",
            "Threshold: 9.800000000000013e-06\n",
            "78/78 [==============================] - 1s 15ms/step\n",
            "Accuracy: 0.7318085733187241 \n",
            "Threshold: 9.900000000000014e-06\n",
            "78/78 [==============================] - 1s 15ms/step\n",
            "Accuracy: 0.7317917760641707 \n",
            "Threshold: 1.0000000000000014e-05\n",
            "78/78 [==============================] - 1s 15ms/step\n",
            "Accuracy: 0.7317827313886419 \n",
            "Threshold: 1.0100000000000015e-05\n",
            "78/78 [==============================] - 1s 15ms/step\n",
            "Accuracy: 0.7317362159144942 \n",
            "Threshold: 1.0200000000000016e-05\n",
            "78/78 [==============================] - 1s 13ms/step\n",
            "Accuracy: 0.7316871162473383 \n",
            "Threshold: 1.0300000000000017e-05\n",
            "78/78 [==============================] - 1s 17ms/step\n",
            "Accuracy: 0.7316664427032726 \n",
            "Threshold: 1.0400000000000017e-05\n",
            "78/78 [==============================] - 1s 13ms/step\n",
            "Accuracy: 0.7316793636683137 \n",
            "Threshold: 1.0500000000000018e-05\n",
            "78/78 [==============================] - 1s 13ms/step\n",
            "Accuracy: 0.7316186351326208 \n",
            "Threshold: 1.0600000000000019e-05\n",
            "--------------------------------------------------\n",
            "Best accuracy: 0.731983006346778 \n",
            "Final threshold: 9.50000000000002e-06\n",
            "78/78 [==============================] - 1s 7ms/step\n",
            "Accuracy: 0.731883514915962 \n",
            "Threshold: 9.550000000000019e-06\n",
            "78/78 [==============================] - 1s 7ms/step\n",
            "Accuracy: 0.7319106489425482 \n",
            "Threshold: 9.600000000000018e-06\n",
            "78/78 [==============================] - 1s 7ms/step\n",
            "Accuracy: 0.7319145252320606 \n",
            "Threshold: 9.650000000000018e-06\n",
            "78/78 [==============================] - 1s 7ms/step\n",
            "Accuracy: 0.7318744702404333 \n",
            "Threshold: 9.700000000000017e-06\n",
            "78/78 [==============================] - 1s 7ms/step\n",
            "Accuracy: 0.7318822228194579 \n",
            "Threshold: 9.750000000000017e-06\n",
            "78/78 [==============================] - 1s 7ms/step\n",
            "Accuracy: 0.731833123152302 \n",
            "Threshold: 9.800000000000016e-06\n",
            "78/78 [==============================] - 1s 8ms/step\n",
            "Accuracy: 0.7318085733187241 \n",
            "Threshold: 9.850000000000016e-06\n",
            "78/78 [==============================] - 1s 16ms/step\n",
            "Accuracy: 0.7317878997746584 \n",
            "Threshold: 9.900000000000015e-06\n",
            "78/78 [==============================] - 1s 15ms/step\n",
            "Accuracy: 0.7317917760641707 \n",
            "Threshold: 9.950000000000015e-06\n",
            "78/78 [==============================] - 1s 14ms/step\n",
            "Accuracy: 0.7317762709061214 \n",
            "Threshold: 1.0000000000000014e-05\n",
            "78/78 [==============================] - 1s 17ms/step\n",
            "Accuracy: 0.7317827313886419 \n",
            "Threshold: 1.0050000000000014e-05\n",
            "--------------------------------------------------\n",
            "Best accuracy: 0.731983006346778 \n",
            "Final threshold: 9.500000000000014e-06\n",
            "78/78 [==============================] - 1s 7ms/step\n",
            "Accuracy: 0.731883514915962 \n",
            "Threshold: 9.525000000000015e-06\n",
            "78/78 [==============================] - 1s 7ms/step\n",
            "Accuracy: 0.7319080647495401 \n",
            "Threshold: 9.550000000000015e-06\n",
            "78/78 [==============================] - 1s 7ms/step\n",
            "Accuracy: 0.7319106489425482 \n",
            "Threshold: 9.575000000000016e-06\n",
            "78/78 [==============================] - 1s 7ms/step\n",
            "Accuracy: 0.7319132331355565 \n",
            "Threshold: 9.600000000000017e-06\n",
            "78/78 [==============================] - 1s 8ms/step\n",
            "Accuracy: 0.7319145252320606 \n",
            "Threshold: 9.625000000000017e-06\n",
            "78/78 [==============================] - 1s 7ms/step\n",
            "Accuracy: 0.7319041884600277 \n",
            "Threshold: 9.650000000000018e-06\n",
            "78/78 [==============================] - 1s 7ms/step\n",
            "Accuracy: 0.7318744702404333 \n",
            "Threshold: 9.675000000000018e-06\n",
            "78/78 [==============================] - 1s 7ms/step\n",
            "Accuracy: 0.7318680097579128 \n",
            "Threshold: 9.700000000000019e-06\n",
            "78/78 [==============================] - 1s 7ms/step\n",
            "Accuracy: 0.7318822228194579 \n",
            "Threshold: 9.72500000000002e-06\n",
            "78/78 [==============================] - 1s 7ms/step\n",
            "Accuracy: 0.7318550887928718 \n",
            "Threshold: 9.75000000000002e-06\n",
            "78/78 [==============================] - 1s 7ms/step\n",
            "Accuracy: 0.731833123152302 \n",
            "Threshold: 9.77500000000002e-06\n",
            "--------------------------------------------------\n",
            "Best accuracy: 0.731983006346778 \n",
            "Final threshold: 9.500000000000021e-06\n",
            "78/78 [==============================] - 1s 8ms/step\n",
            "Accuracy: 0.731883514915962 \n",
            "Threshold: 9.512500000000021e-06\n",
            "78/78 [==============================] - 1s 8ms/step\n",
            "Accuracy: 0.7318990200740113 \n",
            "Threshold: 9.525000000000021e-06\n",
            "78/78 [==============================] - 1s 7ms/step\n",
            "Accuracy: 0.7319080647495401 \n",
            "Threshold: 9.537500000000022e-06\n",
            "78/78 [==============================] - 1s 7ms/step\n",
            "Accuracy: 0.7319093568460441 \n",
            "Threshold: 9.550000000000022e-06\n",
            "78/78 [==============================] - 1s 7ms/step\n",
            "Accuracy: 0.7319106489425482 \n",
            "Threshold: 9.562500000000022e-06\n",
            "78/78 [==============================] - 1s 7ms/step\n",
            "Accuracy: 0.7319119410390523 \n",
            "Threshold: 9.575000000000023e-06\n",
            "78/78 [==============================] - 1s 7ms/step\n",
            "Accuracy: 0.7319132331355565 \n",
            "Threshold: 9.587500000000023e-06\n",
            "78/78 [==============================] - 1s 7ms/step\n",
            "Accuracy: 0.7319093568460441 \n",
            "Threshold: 9.600000000000023e-06\n",
            "78/78 [==============================] - 1s 9ms/step\n",
            "Accuracy: 0.7319145252320606 \n",
            "Threshold: 9.612500000000024e-06\n",
            "78/78 [==============================] - 1s 8ms/step\n",
            "Accuracy: 0.7319054805565318 \n",
            "Threshold: 9.625000000000024e-06\n",
            "78/78 [==============================] - 1s 7ms/step\n",
            "Accuracy: 0.7319041884600277 \n",
            "Threshold: 9.637500000000024e-06\n",
            "--------------------------------------------------\n",
            "Best accuracy: 0.731983006346778 \n",
            "Final threshold: 9.500000000000024e-06\n",
            "78/78 [==============================] - 1s 7ms/step\n",
            "Accuracy: 0.731883514915962 \n",
            "Threshold: 9.506250000000024e-06\n",
            "78/78 [==============================] - 1s 7ms/step\n",
            "Accuracy: 0.7318951437844989 \n",
            "Threshold: 9.512500000000025e-06\n",
            "78/78 [==============================] - 1s 7ms/step\n",
            "Accuracy: 0.7318990200740113 \n",
            "Threshold: 9.518750000000025e-06\n",
            "78/78 [==============================] - 1s 8ms/step\n",
            "Accuracy: 0.7319028963635236 \n",
            "Threshold: 9.525000000000025e-06\n",
            "78/78 [==============================] - 1s 8ms/step\n",
            "Accuracy: 0.7319080647495401 \n",
            "Threshold: 9.531250000000025e-06\n",
            "78/78 [==============================] - 1s 8ms/step\n",
            "Accuracy: 0.7319041884600277 \n",
            "Threshold: 9.537500000000025e-06\n",
            "78/78 [==============================] - 1s 8ms/step\n",
            "Accuracy: 0.7319093568460441 \n",
            "Threshold: 9.543750000000025e-06\n",
            "78/78 [==============================] - 1s 7ms/step\n",
            "Accuracy: 0.7319041884600277 \n",
            "Threshold: 9.550000000000025e-06\n",
            "78/78 [==============================] - 1s 7ms/step\n",
            "Accuracy: 0.7319106489425482 \n",
            "Threshold: 9.556250000000026e-06\n",
            "78/78 [==============================] - 1s 7ms/step\n",
            "Accuracy: 0.7319209857145811 \n",
            "Threshold: 9.562500000000026e-06\n",
            "78/78 [==============================] - 1s 7ms/step\n",
            "Accuracy: 0.7319119410390523 \n",
            "Threshold: 9.568750000000026e-06\n",
            "--------------------------------------------------\n",
            "Best accuracy: 0.731983006346778 \n",
            "Final threshold: 9.500000000000026e-06\n"
          ]
        }
      ],
      "source": [
        "threshold = 8e-06               # Initial threshold\n",
        "best_threshold = threshold      # Initial best threshold\n",
        "step = 1e-7                     # Initial step\n",
        "decay = 0.5                     # Decay rate\n",
        "num_decay = 5                   # Number of decay times\n",
        "pre = 0                         # Previous accuracy\n",
        "cur = 1e-9                      # Current accuracy\n",
        "best_acc = 1                    # Initial best accuracy\n",
        "occ = 10                        # Occurence of the previous accuracy better than the current one\n",
        "count = 0                       # Counter\n",
        "\n",
        "for d_i in range (num_decay):\n",
        "    for i in range (1000):\n",
        "        pre = cur\n",
        "        pred = model.predict_class(train, threshold, 10000)\n",
        "        acc  = accuracy_score(label, pred)\n",
        "        threshold = threshold + step\n",
        "        cur = acc\n",
        "        print(\"Accuracy:\", acc, \"\\nThreshold:\", threshold)\n",
        "\n",
        "        # If the previous accuracy is better than the current one. Plus the counter and store the best threshold and accuracy\n",
        "        if (pre > cur):\n",
        "            count = count + 1\n",
        "            cur = pre\n",
        "            best_threshold = threshold - count*step\n",
        "            best_acc = pre\n",
        "        else:\n",
        "            count = 0\n",
        "            best_threshold = threshold\n",
        "            continue\n",
        "\n",
        "        if count == occ + 1:\n",
        "            step = step * decay\n",
        "            threshold = best_threshold\n",
        "            count = 0\n",
        "            cur = best_acc\n",
        "            print(\"--------------------------------------------------\")\n",
        "            print(\"Best accuracy:\", best_acc, \"\\nFinal threshold:\", best_threshold)\n",
        "            break    "
      ]
    }
  ],
  "metadata": {
    "accelerator": "GPU",
    "colab": {
      "gpuType": "T4",
      "provenance": []
    },
    "kernelspec": {
      "display_name": "Python 3",
      "name": "python3"
    },
    "language_info": {
      "codemirror_mode": {
        "name": "ipython",
        "version": 3
      },
      "file_extension": ".py",
      "mimetype": "text/x-python",
      "name": "python",
      "nbconvert_exporter": "python",
      "pygments_lexer": "ipython3",
      "version": "3.10.6"
    }
  },
  "nbformat": 4,
  "nbformat_minor": 0
}
