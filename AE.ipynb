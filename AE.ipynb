{
  "cells": [
    {
      "cell_type": "code",
      "execution_count": 63,
      "metadata": {
        "id": "6uFq9eWOXnl0"
      },
      "outputs": [],
      "source": [
        "import pandas as pd\n",
        "pd.options.mode.chained_assignment = None  # default='warn'\n",
        "from notebook.services.config import ConfigManager\n",
        "cm = ConfigManager().update('notebook', {'limit_output': 20})\n",
        "import numpy as np\n",
        "import matplotlib.pyplot as plt\n",
        "import tensorflow as tf\n",
        "from tensorflow import keras\n",
        "from sklearn.metrics import accuracy_score, confusion_matrix, classification_report, ConfusionMatrixDisplay\n",
        "from sklearn.preprocessing import OneHotEncoder, MinMaxScaler\n",
        "from sklearn.model_selection import train_test_split\n",
        "import seaborn as sns"
      ]
    },
    {
      "cell_type": "code",
      "execution_count": 64,
      "metadata": {
        "colab": {
          "base_uri": "https://localhost:8080/",
          "height": 487
        },
        "id": "yn5nspAuaFKa",
        "outputId": "6b8c33d5-f90f-4f14-ab49-58eddc73557e"
      },
      "outputs": [],
      "source": [
        "Nor_path = \"./Dataset/Normal_mixed.csv\"\n",
        "col_names = [\"duration\", \"protocol_type\", \"service\", \"flag\", \"src_bytes\", \"dst_bytes\",\n",
        "                \"land\", \"wrong_fragment\", \"urgent\", \"count\", \"srv_count\", \"serror_rate\",\n",
        "                \"srv_serror_rate\", \"rerror_rate\", \"srv_rerror_rate\", \"same_srv_rate\",\n",
        "                \"diff_srv_rate\", \"srv_diff_host_rate\", \"dst_host_count\", \"dst_host_srv_count\",\n",
        "                \"dst_host_same_srv_rate\", \"dst_host_diff_srv_rate\", \"dst_host_same_src_port_rate\",\n",
        "                \"dst_host_srv_diff_host_rate\", \"dst_host_serror_rate\", \"dst_host_srv_serror_rate\",\n",
        "                \"dst_host_rerror_rate\", \"dst_host_srv_rerror_rate\", \"label\"]\n",
        "Nor_df = pd.read_csv(Nor_path, header=None,names= col_names, nrows= 600000)"
      ]
    },
    {
      "cell_type": "code",
      "execution_count": 65,
      "metadata": {
        "colab": {
          "base_uri": "https://localhost:8080/",
          "height": 487
        },
        "id": "1XsOye7gfrZn",
        "outputId": "dcf538e5-8627-4d38-92a9-eac28001e26a"
      },
      "outputs": [],
      "source": [
        "Abnor_path = \"./Dataset/Abnormal.csv\"\n",
        "Abnor_df = pd.read_csv(Abnor_path, header=None,names= col_names, nrows= 500000)"
      ]
    },
    {
      "cell_type": "code",
      "execution_count": 66,
      "metadata": {},
      "outputs": [],
      "source": [
        "Kdd_path = \"./Dataset/kdd99_extracted.csv\"\n",
        "kdd99_df = pd.read_csv(Kdd_path, header=None,names= col_names, nrows= 400000)\n",
        "\n",
        "kdd99_nor = kdd99_df[kdd99_df['label'] == 'Normal']\n",
        "kdd99_abnor = kdd99_df[kdd99_df['label'] != 'Normal']"
      ]
    },
    {
      "cell_type": "code",
      "execution_count": 67,
      "metadata": {},
      "outputs": [],
      "source": [
        "Train_nor_kdd99, Test_nor_kdd99 = train_test_split(kdd99_nor, test_size=0.3, random_state=1)\n",
        "Train_abnor_kdd99, Test_abnor_kdd99 = train_test_split(kdd99_abnor, test_size=0.3, random_state=1) \n",
        "\n",
        "Train_kdd99 = pd.concat([Train_nor_kdd99, Train_abnor_kdd99], ignore_index=True)\n",
        "Test_kdd99 = pd.concat([Test_nor_kdd99, Test_abnor_kdd99], ignore_index=True)"
      ]
    },
    {
      "cell_type": "code",
      "execution_count": 68,
      "metadata": {},
      "outputs": [],
      "source": [
        "#Test ver 1: 4 classes attacks\n",
        "Abnor_df_v1 = Abnor_df[Abnor_df['label'].isin(['FoT', 'DoS', 'DoS_Gas','BP'])]\n",
        "\n",
        "#Test Ver 2:3 classes attacks\n",
        "Abnor_df_v2 = Abnor_df[Abnor_df['label'].isin(['BP', 'DoS', 'DoS_Gas'])]\n",
        "\n",
        "#Test ver 3: 2 classes attacks\n",
        "Abnor_df_v3 = Abnor_df[Abnor_df['label'].isin(['BP', 'DoS'])]\n",
        "\n",
        "#Test ver 4: 1 class attack\n",
        "Abnor_df_v4 = Abnor_df[Abnor_df['label'].isin(['DoS'])]\n"
      ]
    },
    {
      "cell_type": "code",
      "execution_count": 69,
      "metadata": {},
      "outputs": [],
      "source": [
        "Train_nor, Test_nor = train_test_split(Nor_df, test_size=0.2, random_state=1)\n",
        "Train_abnor, Test_abnor = train_test_split(Abnor_df, test_size=0.2, random_state=1) \n",
        "\n",
        "Train = pd.concat([Train_nor, Train_abnor], ignore_index=True)\n",
        "Test = pd.concat([Test_nor, Test_abnor], ignore_index=True)"
      ]
    },
    {
      "cell_type": "code",
      "execution_count": 70,
      "metadata": {},
      "outputs": [],
      "source": [
        "Train_4classes = Train_abnor[Train_abnor['label'].isin(['FoT', 'DoS', 'DoS_Gas','BP'])]\n",
        "\n",
        "Train_3classes = Train_abnor[Train_abnor['label'].isin(['DoS', 'DoS_Gas','BP'])]\n",
        "\n",
        "Train_2classes = Train_abnor[Train_abnor['label'].isin(['DoS','BP'])]\n",
        "\n",
        "Train_1class = Train_abnor[Train_abnor['label'].isin(['DoS'])]"
      ]
    },
    {
      "cell_type": "code",
      "execution_count": 71,
      "metadata": {},
      "outputs": [],
      "source": [
        "def one_hot_encode(data):\n",
        "    unique_labels = [\n",
        "    [\"tcp\", \"udp\", \"icmp\"],\n",
        "    [\"other\", \"private\", \"ecr_i\", \"urp_i\", \"urh_i\", \"red_i\", \"eco_i\", \"tim_i\", \"oth_i\", \"domain_u\", \"tftp_u\", \"ntp_u\", \"IRC\", \n",
        "                \"X11\", \"Z39_50\", \"aol\", \"auth\", \"bgp\", \"courier\", \"csnet_ns\", \"ctf\", \"daytime\", \"discard\", \"domain\", \"echo\", \"efs\", \"exec\", \n",
        "                \"finger\", \"ftp\", \"ftp_data\", \"gopher\", \"harvest\", \"hostnames\", \"http\", \"http_2784\", \"http_443\", \"http_8001\", \"icmp\", \"imap4\",\n",
        "                \"iso_tsap\", \"klogin\", \"kshell\", \"ldap\", \"link\", \"login\", \"mtp\", \"name\", \"netbios_dgm\", \"netbios_ns\", \"netbios_ssn\", \"netstat\",\n",
        "                \"nnsp\", \"nntp\", \"pm_dump\", \"pop_2\", \"pop_3\", \"printer\", \"remote_job\", \"rje\", \"shell\", \"smtp\", \"sql_net\", \"ssh\", \"sunrpc\", \n",
        "                \"supdup\", \"systat\", \"telnet\", \"time\", \"uucp\", \"uucp_path\", \"vmnet\", \"whois\"],\n",
        "    [\"SF\", \"S0\", \"S1\", \"S2\", \"S3\", \"REJ\", \"RSTOS0\", \"RSTO\", \"RSTR\", \"SH\", \"RSTRH\", \"SHR\", \"OTH\"],\n",
        "    [\"Normal\",\"OaU\",\"DoS\",\"DoS_Gas\",\"FoT\",\"BP\"]\n",
        "    ]\n",
        "    encoded_data = []\n",
        "    # Thực hiện mã hóa one-hot\n",
        "    for row in data:\n",
        "        encoding = []\n",
        "        for i, column_value in enumerate(row):\n",
        "            unique_column_values = unique_labels[i]\n",
        "            encoding.extend([1 if column_value == unique else 0 for unique in unique_column_values])\n",
        "        encoded_data.append(encoding)\n",
        "    return np.array(encoded_data)"
      ]
    },
    {
      "cell_type": "code",
      "execution_count": 72,
      "metadata": {},
      "outputs": [],
      "source": [
        "scaler = MinMaxScaler()"
      ]
    },
    {
      "cell_type": "code",
      "execution_count": 73,
      "metadata": {},
      "outputs": [],
      "source": [
        "def preprocess_test(df, is_fit=True):\n",
        "    # chuyển normal thành 1 và các lớp khác thành 0\n",
        "    label = df['label'].map(lambda x: 'Abnormal' if x != 'Normal' else x)\n",
        "\n",
        "    # loại bỏ cột dữ liệu không cần thiết\n",
        "    #df = df.drop([\"label\"], axis=1)\n",
        "    df = df.drop([\"land\", \"wrong_fragment\",  \"urgent\", \"rerror_rate\",  \"srv_rerror_rate\", \"dst_host_rerror_rate\", \"dst_host_srv_rerror_rate\", \"label\"], axis=1)\n",
        "\n",
        "    # chia dữ liệu ra số, chữ để tiện xử lý\n",
        "    numerical_data = df.select_dtypes(exclude='object').values\n",
        "    categorical_data = df.select_dtypes(include='object').values\n",
        "\n",
        "    categorical_data = one_hot_encode(categorical_data)\n",
        "\n",
        "    # nối dữ liệu số và onehot lại\n",
        "    data = np.concatenate([numerical_data, categorical_data], axis=1)\n",
        "\n",
        "    # chỉ fit với dữ liệu train\n",
        "    if is_fit:\n",
        "        scaler.fit(data)\n",
        "\n",
        "    # dữ liệu chuẩn hóa về dạng [0, 1]\n",
        "    data = scaler.transform(data)\n",
        "\n",
        "    return dict(data=data, label=label)"
      ]
    },
    {
      "cell_type": "code",
      "execution_count": 74,
      "metadata": {},
      "outputs": [],
      "source": [
        "#Dùng hàm preprocess_test\n",
        "Train_nor = preprocess_test(Train_nor, True)\n",
        "Train_abnor = preprocess_test(Train_abnor, False)\n",
        "train = preprocess_test(Train, False)"
      ]
    },
    {
      "cell_type": "code",
      "execution_count": 75,
      "metadata": {},
      "outputs": [
        {
          "data": {
            "text/plain": [
              "((480000, 106), (293936, 106))"
            ]
          },
          "execution_count": 75,
          "metadata": {},
          "output_type": "execute_result"
        }
      ],
      "source": [
        "Train_nor['data'].shape , Train_abnor['data'].shape"
      ]
    },
    {
      "cell_type": "code",
      "execution_count": 76,
      "metadata": {},
      "outputs": [],
      "source": [
        "test = preprocess_test(Test, False)\n",
        "Test_nor = test['data'][test['label'] == 'Normal']\n",
        "Test_abnor = test['data'][test['label'] == 'Abnormal']"
      ]
    },
    {
      "cell_type": "code",
      "execution_count": 77,
      "metadata": {},
      "outputs": [
        {
          "data": {
            "text/plain": [
              "((120000, 106), (73484, 106))"
            ]
          },
          "execution_count": 77,
          "metadata": {},
          "output_type": "execute_result"
        }
      ],
      "source": [
        "Test_nor.shape , Test_abnor.shape"
      ]
    },
    {
      "cell_type": "code",
      "execution_count": 78,
      "metadata": {},
      "outputs": [],
      "source": [
        "Train_abnor_4clss = preprocess_test(Train_4classes, False)\n",
        "\n",
        "Train_abnor_3clss = preprocess_test(Train_3classes, False)\n",
        "\n",
        "Train_abnor_2clss = preprocess_test(Train_2classes, False)\n",
        "\n",
        "Train_abnor_1clss = preprocess_test(Train_1class, False)"
      ]
    },
    {
      "cell_type": "code",
      "execution_count": 79,
      "metadata": {},
      "outputs": [],
      "source": [
        "Test_4class =  Test[Test['label'].isin(['FoT','DoS_Gas','DoS','BP','Normal'])]\n",
        "\n",
        "Test_3class =  Test[Test['label'].isin(['DoS_Gas','DoS','BP','Normal'])]\n",
        "\n",
        "Test_2class =  Test[Test['label'].isin(['DoS','BP','Normal'])]\n",
        "\n",
        "Test_1class =  Test[Test['label'].isin(['DoS','Normal'])]"
      ]
    },
    {
      "cell_type": "code",
      "execution_count": 80,
      "metadata": {},
      "outputs": [
        {
          "data": {
            "text/plain": [
              "array(['Normal', 'BP', 'DoS_Gas', 'DoS'], dtype=object)"
            ]
          },
          "execution_count": 80,
          "metadata": {},
          "output_type": "execute_result"
        }
      ],
      "source": [
        "Test_3class['label'].unique()"
      ]
    },
    {
      "cell_type": "code",
      "execution_count": 81,
      "metadata": {},
      "outputs": [],
      "source": [
        "#Full classes\n",
        "test = preprocess_test(Test, False)\n",
        "Test_nor = test['data'][test['label'] == 'Normal']\n",
        "Test_abnor = test['data'][test['label'] == 'Abnormal']"
      ]
    },
    {
      "cell_type": "code",
      "execution_count": 82,
      "metadata": {},
      "outputs": [],
      "source": [
        "#Trường hợp 4 classes\n",
        "test = preprocess_test(Test_4class, False)\n",
        "Test_nor = test['data'][test['label'] == 'Normal']\n",
        "Test_abnor = test['data'][test['label'] == 'Abnormal']"
      ]
    },
    {
      "cell_type": "code",
      "execution_count": 83,
      "metadata": {},
      "outputs": [],
      "source": [
        "#Trường hợp 3 classes\n",
        "test = preprocess_test(Test_3class, False)\n",
        "Test_nor = test['data'][test['label'] == 'Normal']\n",
        "Test_abnor = test['data'][test['label'] == 'Abnormal']"
      ]
    },
    {
      "cell_type": "code",
      "execution_count": 84,
      "metadata": {},
      "outputs": [],
      "source": [
        "#Trường hợp 2 classes\n",
        "test = preprocess_test(Test_2class, False)\n",
        "Test_nor = test['data'][test['label'] == 'Normal']\n",
        "Test_abnor = test['data'][test['label'] == 'Abnormal']"
      ]
    },
    {
      "cell_type": "code",
      "execution_count": 85,
      "metadata": {},
      "outputs": [],
      "source": [
        "#Trường hợp 1 class\n",
        "test = preprocess_test(Test_1class, False)\n",
        "Test_nor = test['data'][test['label'] == 'Normal']\n",
        "Test_abnor = test['data'][test['label'] == 'Abnormal']"
      ]
    },
    {
      "cell_type": "code",
      "execution_count": 86,
      "metadata": {
        "id": "PhScwCsapMEI"
      },
      "outputs": [],
      "source": [
        "class Autoencoder(keras.Model):\n",
        "  def __init__(self, input_dim):\n",
        "    super(Autoencoder, self).__init__()\n",
        "    self.encoder = keras.Sequential([\n",
        "      keras.layers.Dense(input_dim, activation='tanh'),\n",
        "      keras.layers.Dense(52, activation='tanh'),\n",
        "      keras.layers.Dense(26, activation='tanh'),\n",
        "      keras.layers.Dense(13, activation='tanh')\n",
        "    ])\n",
        "    self.decoder = keras.Sequential([\n",
        "      keras.layers.Dense(13, activation='tanh'),\n",
        "      keras.layers.Dense(26, activation='tanh'),\n",
        "      keras.layers.Dense(52, activation='tanh'),\n",
        "      keras.layers.Dense(input_dim, activation='sigmoid'),\n",
        "    ])\n",
        "\n",
        "  def call(self, x):\n",
        "    code = self.encoder(x)\n",
        "    r = self.decoder(code)\n",
        "    return r\n",
        "\n",
        "  def get_reconstruction_error(self, x):\n",
        "    r = self.predict(x)\n",
        "    return keras.metrics.mean_squared_error(x, r)\n",
        "\n",
        "  def predict_class(self, x, threshold):\n",
        "    reconstruction_error = self.get_reconstruction_error(x)\n",
        "    return np.where(reconstruction_error <= threshold, 'Normal', 'Abnormal')"
      ]
    },
    {
      "cell_type": "code",
      "execution_count": 87,
      "metadata": {
        "id": "MyqtXuQNpThH"
      },
      "outputs": [],
      "source": [
        "model = Autoencoder(Train_nor['data'].shape[1])\n",
        "optimizer = keras.optimizers.Adam(learning_rate=0.0001)\n",
        "loss_fn = keras.losses.MeanSquaredError()\n",
        "model.compile(optimizer, loss_fn)"
      ]
    },
    {
      "cell_type": "code",
      "execution_count": 88,
      "metadata": {
        "colab": {
          "base_uri": "https://localhost:8080/"
        },
        "id": "v4QuVTLSpWS_",
        "outputId": "4a643efb-0f06-4287-bb08-38f7a41efd7a"
      },
      "outputs": [],
      "source": [
        "# model.fit(Train_nor['data'], Train_nor['data'], batch_size=128, epochs=1000, shuffle=True)"
      ]
    },
    {
      "cell_type": "code",
      "execution_count": 89,
      "metadata": {},
      "outputs": [
        {
          "data": {
            "text/plain": [
              "<tensorflow.python.checkpoint.checkpoint.CheckpointLoadStatus at 0x1d09e94d150>"
            ]
          },
          "execution_count": 89,
          "metadata": {},
          "output_type": "execute_result"
        }
      ],
      "source": [
        "#model.save('Model/AE_fullclassn_1200_new.model', save_format='tf')  # The file needs to end with the .keras extension\n",
        "\n",
        "model_path = 'Model/AE_fullclassn_1200_new.model'\n",
        "model.load_weights(model_path)"
      ]
    },
    {
      "cell_type": "code",
      "execution_count": 90,
      "metadata": {
        "colab": {
          "base_uri": "https://localhost:8080/"
        },
        "id": "xcLTa9lNyZDC",
        "outputId": "ea9b9f99-750c-4ba1-fdb6-0236106e6e81"
      },
      "outputs": [
        {
          "name": "stdout",
          "output_type": "stream",
          "text": [
            "15000/15000 [==============================] - 17s 1ms/step\n",
            "9186/9186 [==============================] - 10s 1ms/step\n",
            "3750/3750 [==============================] - 4s 961us/step\n",
            "620/620 [==============================] - 1s 1ms/step\n"
          ]
        }
      ],
      "source": [
        "train_normal_re = model.get_reconstruction_error(Train_nor['data'])\n",
        "train_abnormal_re = model.get_reconstruction_error(Train_abnor['data'])\n",
        "\n",
        "test_normal_re = model.get_reconstruction_error(Test_nor)\n",
        "test_abnormal_re = model.get_reconstruction_error(Test_abnor)"
      ]
    },
    {
      "cell_type": "code",
      "execution_count": 91,
      "metadata": {},
      "outputs": [],
      "source": [
        "sigma = 5\n",
        "alpha = 0.5"
      ]
    },
    {
      "cell_type": "code",
      "execution_count": 92,
      "metadata": {},
      "outputs": [
        {
          "data": {
            "text/plain": [
              "3.6521286915558435e-06"
            ]
          },
          "execution_count": 92,
          "metadata": {},
          "output_type": "execute_result"
        }
      ],
      "source": [
        "sigma_threshold = np.percentile(train_normal_re, 100 - sigma)\n",
        "sigma_threshold"
      ]
    },
    {
      "cell_type": "code",
      "execution_count": 93,
      "metadata": {},
      "outputs": [
        {
          "name": "stdout",
          "output_type": "stream",
          "text": [
            "Ngưỡng vừa tìm được: 0.00022175040794536471\n"
          ]
        }
      ],
      "source": [
        "alpha = 0.5\n",
        "threshold = np.concatenate([train_normal_re,train_abnormal_re]).mean() * alpha\n",
        "print('Ngưỡng vừa tìm được:', threshold)"
      ]
    },
    {
      "cell_type": "code",
      "execution_count": 94,
      "metadata": {},
      "outputs": [
        {
          "data": {
            "text/plain": [
              "<tf.Tensor: shape=(), dtype=float32, numpy=9.892067e-09>"
            ]
          },
          "execution_count": 94,
          "metadata": {},
          "output_type": "execute_result"
        }
      ],
      "source": [
        "tf.reduce_min(train_abnormal_re)"
      ]
    },
    {
      "cell_type": "code",
      "execution_count": 95,
      "metadata": {},
      "outputs": [
        {
          "data": {
            "text/plain": [
              "<tf.Tensor: shape=(), dtype=float32, numpy=0.009445368>"
            ]
          },
          "execution_count": 95,
          "metadata": {},
          "output_type": "execute_result"
        }
      ],
      "source": [
        "new_threshold = (tf.reduce_max(train_normal_re) + tf.reduce_min(train_abnormal_re))/2\n",
        "new_threshold"
      ]
    },
    {
      "cell_type": "code",
      "execution_count": 96,
      "metadata": {},
      "outputs": [],
      "source": [
        "new_threshold2 = 0.00004"
      ]
    },
    {
      "cell_type": "code",
      "execution_count": 97,
      "metadata": {},
      "outputs": [],
      "source": [
        "from sklearn.metrics import classification_report"
      ]
    },
    {
      "cell_type": "code",
      "execution_count": 98,
      "metadata": {},
      "outputs": [
        {
          "ename": "NameError",
          "evalue": "name 'train_kdd' is not defined",
          "output_type": "error",
          "traceback": [
            "\u001b[1;31m---------------------------------------------------------------------------\u001b[0m",
            "\u001b[1;31mNameError\u001b[0m                                 Traceback (most recent call last)",
            "Cell \u001b[1;32mIn[98], line 5\u001b[0m\n\u001b[0;32m      1\u001b[0m \u001b[39m# label_predict = model.predict_class(test_kdd_nor, threshold)\u001b[39;00m\n\u001b[0;32m      2\u001b[0m \u001b[39m# print('Độ chính xác tập khi tái tạo normal tập huấn luyện', end=': ')\u001b[39;00m\n\u001b[0;32m      3\u001b[0m \u001b[39m# print(accuracy_score(np.full([2000], 'Normal'), label_predict))\u001b[39;00m\n\u001b[1;32m----> 5\u001b[0m label_predict1 \u001b[39m=\u001b[39m model\u001b[39m.\u001b[39mpredict_class(train_kdd[\u001b[39m'\u001b[39m\u001b[39mdata\u001b[39m\u001b[39m'\u001b[39m], threshold)\n\u001b[0;32m      6\u001b[0m \u001b[39mprint\u001b[39m(\u001b[39m'\u001b[39m\u001b[39mĐộ chính xác tập huấn luyện\u001b[39m\u001b[39m'\u001b[39m, end\u001b[39m=\u001b[39m\u001b[39m'\u001b[39m\u001b[39m: \u001b[39m\u001b[39m'\u001b[39m)\n\u001b[0;32m      7\u001b[0m \u001b[39mprint\u001b[39m(accuracy_score(train_kdd[\u001b[39m'\u001b[39m\u001b[39mlabel\u001b[39m\u001b[39m'\u001b[39m], label_predict1))\n",
            "\u001b[1;31mNameError\u001b[0m: name 'train_kdd' is not defined"
          ]
        }
      ],
      "source": [
        "# label_predict = model.predict_class(test_kdd_nor, threshold)\n",
        "# print('Độ chính xác tập khi tái tạo normal tập huấn luyện', end=': ')\n",
        "# print(accuracy_score(np.full([2000], 'Normal'), label_predict))\n",
        "\n",
        "label_predict1 = model.predict_class(train_kdd['data'], threshold)\n",
        "print('Độ chính xác tập huấn luyện', end=': ')\n",
        "print(accuracy_score(train_kdd['label'], label_predict1))\n",
        "\n",
        "label_predict = model.predict_class(test_kdd['data'], threshold)\n",
        "print('Độ chính xác tập test', end=': ')\n",
        "print(accuracy_score(test_kdd['label'], label_predict))\n",
        "\n",
        "labels = ['Normal', 'Abnormal']\n",
        "\n",
        "matrix2 = confusion_matrix(train_kdd['label'], label_predict1)\n",
        "disp1 = ConfusionMatrixDisplay(\n",
        "    confusion_matrix=matrix2, display_labels=labels)\n",
        "\n",
        "disp1.plot(cmap=plt.cm.Blues)\n",
        "\n",
        "matrix = confusion_matrix(test_kdd['label'], label_predict)\n",
        "disp = ConfusionMatrixDisplay(\n",
        "    confusion_matrix=matrix, display_labels=labels)\n",
        "\n",
        "#disp.plot(cmap=plt.cm.Blues)\n",
        "print(classification_report(train_kdd['label'],label_predict1,target_names=labels))\n",
        "print(classification_report(test_kdd['label'],label_predict,target_names=labels))"
      ]
    },
    {
      "cell_type": "code",
      "execution_count": null,
      "metadata": {},
      "outputs": [],
      "source": [
        "Train_nor['data']\n",
        "train = np.concatenate((Train_nor['data'], Train_abnor['data']), axis=0)\n",
        "label = np.concatenate((Train_nor['label'], Train_abnor['label']), axis=0)"
      ]
    },
    {
      "cell_type": "code",
      "execution_count": null,
      "metadata": {},
      "outputs": [
        {
          "data": {
            "text/plain": [
              "((773936, 106), (773936,))"
            ]
          },
          "execution_count": 29,
          "metadata": {},
          "output_type": "execute_result"
        }
      ],
      "source": [
        "train.shape , label.shape"
      ]
    },
    {
      "cell_type": "code",
      "execution_count": 99,
      "metadata": {},
      "outputs": [
        {
          "name": "stdout",
          "output_type": "stream",
          "text": [
            "WARNING:tensorflow:Layers in a Sequential model should only have a single input tensor. Received: inputs={'data': <tf.Tensor 'IteratorGetNext:0' shape=(None, 106) dtype=float32>, 'label': <tf.Tensor 'IteratorGetNext:1' shape=(None, 1) dtype=string>}. Consider rewriting this model with the Functional API.\n",
            "   17/24186 [..............................] - ETA: 2:41"
          ]
        },
        {
          "name": "stderr",
          "output_type": "stream",
          "text": [
            "c:\\Users\\SON\\AppData\\Local\\Programs\\Python\\Python310\\lib\\site-packages\\keras\\engine\\functional.py:637: UserWarning: Input dict contained keys ['data', 'label'] which did not match any model input. They will be ignored by the model.\n",
            "  inputs = self._flatten_to_reference_inputs(inputs)\n"
          ]
        },
        {
          "name": "stdout",
          "output_type": "stream",
          "text": [
            "24186/24186 [==============================] - 124s 5ms/step\n"
          ]
        },
        {
          "ename": "ValueError",
          "evalue": "Attempt to convert a value ({'data': array([[0.00000000e+00, 1.82111053e-03, 0.00000000e+00, ...,\n        0.00000000e+00, 0.00000000e+00, 1.00000000e+00],\n       [0.00000000e+00, 5.12187337e-04, 0.00000000e+00, ...,\n        0.00000000e+00, 0.00000000e+00, 1.00000000e+00],\n       [0.00000000e+00, 3.06817535e-04, 0.00000000e+00, ...,\n        0.00000000e+00, 0.00000000e+00, 1.00000000e+00],\n       ...,\n       [0.00000000e+00, 2.22690146e-05, 1.30615922e-03, ...,\n        0.00000000e+00, 0.00000000e+00, 0.00000000e+00],\n       [0.00000000e+00, 2.91971525e-04, 0.00000000e+00, ...,\n        0.00000000e+00, 0.00000000e+00, 1.00000000e+00],\n       [0.00000000e+00, 2.22690146e-05, 0.00000000e+00, ...,\n        0.00000000e+00, 0.00000000e+00, 1.00000000e+00]]), 'label': 0           Normal\n1           Normal\n2           Normal\n3           Normal\n4           Normal\n            ...   \n773931    Abnormal\n773932    Abnormal\n773933    Abnormal\n773934    Abnormal\n773935    Abnormal\nName: label, Length: 773936, dtype: object}) with an unsupported type (<class 'dict'>) to a Tensor.",
          "output_type": "error",
          "traceback": [
            "\u001b[1;31m---------------------------------------------------------------------------\u001b[0m",
            "\u001b[1;31mValueError\u001b[0m                                Traceback (most recent call last)",
            "Cell \u001b[1;32mIn[99], line 5\u001b[0m\n\u001b[0;32m      1\u001b[0m \u001b[39m# label_predict = model.predict_class(Test_nor, threshold)\u001b[39;00m\n\u001b[0;32m      2\u001b[0m \u001b[39m# print('Độ chính xác tập khi tái tạo normal tập huấn luyện', end=': ')\u001b[39;00m\n\u001b[0;32m      3\u001b[0m \u001b[39m# print(accuracy_score(np.full([2000], 'Normal'), label_predict))\u001b[39;00m\n\u001b[1;32m----> 5\u001b[0m label_predict1 \u001b[39m=\u001b[39m model\u001b[39m.\u001b[39;49mpredict_class(train, sigma_threshold)\n\u001b[0;32m      6\u001b[0m \u001b[39mprint\u001b[39m(\u001b[39m'\u001b[39m\u001b[39mĐộ chính xác tập huấn luyện với full class\u001b[39m\u001b[39m'\u001b[39m, end\u001b[39m=\u001b[39m\u001b[39m'\u001b[39m\u001b[39m: \u001b[39m\u001b[39m'\u001b[39m)\n\u001b[0;32m      7\u001b[0m \u001b[39mprint\u001b[39m(accuracy_score(label, label_predict1))\n",
            "Cell \u001b[1;32mIn[86], line 27\u001b[0m, in \u001b[0;36mAutoencoder.predict_class\u001b[1;34m(self, x, threshold)\u001b[0m\n\u001b[0;32m     26\u001b[0m \u001b[39mdef\u001b[39;00m \u001b[39mpredict_class\u001b[39m(\u001b[39mself\u001b[39m, x, threshold):\n\u001b[1;32m---> 27\u001b[0m   reconstruction_error \u001b[39m=\u001b[39m \u001b[39mself\u001b[39;49m\u001b[39m.\u001b[39;49mget_reconstruction_error(x)\n\u001b[0;32m     28\u001b[0m   \u001b[39mreturn\u001b[39;00m np\u001b[39m.\u001b[39mwhere(reconstruction_error \u001b[39m<\u001b[39m\u001b[39m=\u001b[39m threshold, \u001b[39m'\u001b[39m\u001b[39mNormal\u001b[39m\u001b[39m'\u001b[39m, \u001b[39m'\u001b[39m\u001b[39mAbnormal\u001b[39m\u001b[39m'\u001b[39m)\n",
            "Cell \u001b[1;32mIn[86], line 24\u001b[0m, in \u001b[0;36mAutoencoder.get_reconstruction_error\u001b[1;34m(self, x)\u001b[0m\n\u001b[0;32m     22\u001b[0m \u001b[39mdef\u001b[39;00m \u001b[39mget_reconstruction_error\u001b[39m(\u001b[39mself\u001b[39m, x):\n\u001b[0;32m     23\u001b[0m   r \u001b[39m=\u001b[39m \u001b[39mself\u001b[39m\u001b[39m.\u001b[39mpredict(x)\n\u001b[1;32m---> 24\u001b[0m   \u001b[39mreturn\u001b[39;00m keras\u001b[39m.\u001b[39;49mmetrics\u001b[39m.\u001b[39;49mmean_squared_error(x, r)\n",
            "File \u001b[1;32mc:\\Users\\SON\\AppData\\Local\\Programs\\Python\\Python310\\lib\\site-packages\\tensorflow\\python\\util\\traceback_utils.py:153\u001b[0m, in \u001b[0;36mfilter_traceback.<locals>.error_handler\u001b[1;34m(*args, **kwargs)\u001b[0m\n\u001b[0;32m    151\u001b[0m \u001b[39mexcept\u001b[39;00m \u001b[39mException\u001b[39;00m \u001b[39mas\u001b[39;00m e:\n\u001b[0;32m    152\u001b[0m   filtered_tb \u001b[39m=\u001b[39m _process_traceback_frames(e\u001b[39m.\u001b[39m__traceback__)\n\u001b[1;32m--> 153\u001b[0m   \u001b[39mraise\u001b[39;00m e\u001b[39m.\u001b[39mwith_traceback(filtered_tb) \u001b[39mfrom\u001b[39;00m \u001b[39mNone\u001b[39m\n\u001b[0;32m    154\u001b[0m \u001b[39mfinally\u001b[39;00m:\n\u001b[0;32m    155\u001b[0m   \u001b[39mdel\u001b[39;00m filtered_tb\n",
            "File \u001b[1;32mc:\\Users\\SON\\AppData\\Local\\Programs\\Python\\Python310\\lib\\site-packages\\keras\\losses.py:1485\u001b[0m, in \u001b[0;36mmean_squared_error\u001b[1;34m(y_true, y_pred)\u001b[0m\n\u001b[0;32m   1461\u001b[0m \u001b[39m\"\"\"Computes the mean squared error between labels and predictions.\u001b[39;00m\n\u001b[0;32m   1462\u001b[0m \n\u001b[0;32m   1463\u001b[0m \u001b[39mAfter computing the squared distance between the inputs, the mean value over\u001b[39;00m\n\u001b[1;32m   (...)\u001b[0m\n\u001b[0;32m   1482\u001b[0m \u001b[39m  Mean squared error values. shape = `[batch_size, d0, .. dN-1]`.\u001b[39;00m\n\u001b[0;32m   1483\u001b[0m \u001b[39m\"\"\"\u001b[39;00m\n\u001b[0;32m   1484\u001b[0m y_pred \u001b[39m=\u001b[39m tf\u001b[39m.\u001b[39mconvert_to_tensor(y_pred)\n\u001b[1;32m-> 1485\u001b[0m y_true \u001b[39m=\u001b[39m tf\u001b[39m.\u001b[39;49mcast(y_true, y_pred\u001b[39m.\u001b[39;49mdtype)\n\u001b[0;32m   1486\u001b[0m \u001b[39mreturn\u001b[39;00m backend\u001b[39m.\u001b[39mmean(tf\u001b[39m.\u001b[39mmath\u001b[39m.\u001b[39msquared_difference(y_pred, y_true), axis\u001b[39m=\u001b[39m\u001b[39m-\u001b[39m\u001b[39m1\u001b[39m)\n",
            "\u001b[1;31mValueError\u001b[0m: Attempt to convert a value ({'data': array([[0.00000000e+00, 1.82111053e-03, 0.00000000e+00, ...,\n        0.00000000e+00, 0.00000000e+00, 1.00000000e+00],\n       [0.00000000e+00, 5.12187337e-04, 0.00000000e+00, ...,\n        0.00000000e+00, 0.00000000e+00, 1.00000000e+00],\n       [0.00000000e+00, 3.06817535e-04, 0.00000000e+00, ...,\n        0.00000000e+00, 0.00000000e+00, 1.00000000e+00],\n       ...,\n       [0.00000000e+00, 2.22690146e-05, 1.30615922e-03, ...,\n        0.00000000e+00, 0.00000000e+00, 0.00000000e+00],\n       [0.00000000e+00, 2.91971525e-04, 0.00000000e+00, ...,\n        0.00000000e+00, 0.00000000e+00, 1.00000000e+00],\n       [0.00000000e+00, 2.22690146e-05, 0.00000000e+00, ...,\n        0.00000000e+00, 0.00000000e+00, 1.00000000e+00]]), 'label': 0           Normal\n1           Normal\n2           Normal\n3           Normal\n4           Normal\n            ...   \n773931    Abnormal\n773932    Abnormal\n773933    Abnormal\n773934    Abnormal\n773935    Abnormal\nName: label, Length: 773936, dtype: object}) with an unsupported type (<class 'dict'>) to a Tensor."
          ]
        }
      ],
      "source": [
        "# label_predict = model.predict_class(Test_nor, threshold)\n",
        "# print('Độ chính xác tập khi tái tạo normal tập huấn luyện', end=': ')\n",
        "# print(accuracy_score(np.full([2000], 'Normal'), label_predict))\n",
        "\n",
        "label_predict1 = model.predict_class(train, sigma_threshold)\n",
        "print('Độ chính xác tập huấn luyện với full class', end=': ')\n",
        "print(accuracy_score(label, label_predict1))\n",
        "\n",
        "label_predict = model.predict_class(test['data'], sigma_threshold)\n",
        "print('Độ chính xác tập test với full class', end=': ')\n",
        "print(accuracy_score(test['label'], label_predict))\n",
        "\n",
        "labels = ['Normal', 'Abnormal']\n",
        "\n",
        "matrix2 = confusion_matrix(label, label_predict1)\n",
        "disp1 = ConfusionMatrixDisplay(\n",
        "    confusion_matrix=matrix2, display_labels=labels)\n",
        "\n",
        "disp1.plot(cmap=plt.cm.Blues)\n",
        "print(classification_report(label,label_predict1,target_names=labels))\n",
        "print(classification_report(test['label'],label_predict,target_names=labels))"
      ]
    },
    {
      "cell_type": "code",
      "execution_count": 100,
      "metadata": {},
      "outputs": [
        {
          "name": "stdout",
          "output_type": "stream",
          "text": [
            "24186/24186 [==============================] - 115s 5ms/step\n"
          ]
        },
        {
          "ename": "ValueError",
          "evalue": "Attempt to convert a value ({'data': array([[0.00000000e+00, 1.82111053e-03, 0.00000000e+00, ...,\n        0.00000000e+00, 0.00000000e+00, 1.00000000e+00],\n       [0.00000000e+00, 5.12187337e-04, 0.00000000e+00, ...,\n        0.00000000e+00, 0.00000000e+00, 1.00000000e+00],\n       [0.00000000e+00, 3.06817535e-04, 0.00000000e+00, ...,\n        0.00000000e+00, 0.00000000e+00, 1.00000000e+00],\n       ...,\n       [0.00000000e+00, 2.22690146e-05, 1.30615922e-03, ...,\n        0.00000000e+00, 0.00000000e+00, 0.00000000e+00],\n       [0.00000000e+00, 2.91971525e-04, 0.00000000e+00, ...,\n        0.00000000e+00, 0.00000000e+00, 1.00000000e+00],\n       [0.00000000e+00, 2.22690146e-05, 0.00000000e+00, ...,\n        0.00000000e+00, 0.00000000e+00, 1.00000000e+00]]), 'label': 0           Normal\n1           Normal\n2           Normal\n3           Normal\n4           Normal\n            ...   \n773931    Abnormal\n773932    Abnormal\n773933    Abnormal\n773934    Abnormal\n773935    Abnormal\nName: label, Length: 773936, dtype: object}) with an unsupported type (<class 'dict'>) to a Tensor.",
          "output_type": "error",
          "traceback": [
            "\u001b[1;31m---------------------------------------------------------------------------\u001b[0m",
            "\u001b[1;31mValueError\u001b[0m                                Traceback (most recent call last)",
            "Cell \u001b[1;32mIn[100], line 1\u001b[0m\n\u001b[1;32m----> 1\u001b[0m label_predict1 \u001b[39m=\u001b[39m model\u001b[39m.\u001b[39;49mpredict_class(train, threshold)\n\u001b[0;32m      2\u001b[0m \u001b[39mprint\u001b[39m(\u001b[39m'\u001b[39m\u001b[39mĐộ chính xác tập huấn luyện với full class\u001b[39m\u001b[39m'\u001b[39m, end\u001b[39m=\u001b[39m\u001b[39m'\u001b[39m\u001b[39m: \u001b[39m\u001b[39m'\u001b[39m)\n\u001b[0;32m      3\u001b[0m \u001b[39mprint\u001b[39m(accuracy_score(label, label_predict1))\n",
            "Cell \u001b[1;32mIn[86], line 27\u001b[0m, in \u001b[0;36mAutoencoder.predict_class\u001b[1;34m(self, x, threshold)\u001b[0m\n\u001b[0;32m     26\u001b[0m \u001b[39mdef\u001b[39;00m \u001b[39mpredict_class\u001b[39m(\u001b[39mself\u001b[39m, x, threshold):\n\u001b[1;32m---> 27\u001b[0m   reconstruction_error \u001b[39m=\u001b[39m \u001b[39mself\u001b[39;49m\u001b[39m.\u001b[39;49mget_reconstruction_error(x)\n\u001b[0;32m     28\u001b[0m   \u001b[39mreturn\u001b[39;00m np\u001b[39m.\u001b[39mwhere(reconstruction_error \u001b[39m<\u001b[39m\u001b[39m=\u001b[39m threshold, \u001b[39m'\u001b[39m\u001b[39mNormal\u001b[39m\u001b[39m'\u001b[39m, \u001b[39m'\u001b[39m\u001b[39mAbnormal\u001b[39m\u001b[39m'\u001b[39m)\n",
            "Cell \u001b[1;32mIn[86], line 24\u001b[0m, in \u001b[0;36mAutoencoder.get_reconstruction_error\u001b[1;34m(self, x)\u001b[0m\n\u001b[0;32m     22\u001b[0m \u001b[39mdef\u001b[39;00m \u001b[39mget_reconstruction_error\u001b[39m(\u001b[39mself\u001b[39m, x):\n\u001b[0;32m     23\u001b[0m   r \u001b[39m=\u001b[39m \u001b[39mself\u001b[39m\u001b[39m.\u001b[39mpredict(x)\n\u001b[1;32m---> 24\u001b[0m   \u001b[39mreturn\u001b[39;00m keras\u001b[39m.\u001b[39;49mmetrics\u001b[39m.\u001b[39;49mmean_squared_error(x, r)\n",
            "File \u001b[1;32mc:\\Users\\SON\\AppData\\Local\\Programs\\Python\\Python310\\lib\\site-packages\\tensorflow\\python\\util\\traceback_utils.py:153\u001b[0m, in \u001b[0;36mfilter_traceback.<locals>.error_handler\u001b[1;34m(*args, **kwargs)\u001b[0m\n\u001b[0;32m    151\u001b[0m \u001b[39mexcept\u001b[39;00m \u001b[39mException\u001b[39;00m \u001b[39mas\u001b[39;00m e:\n\u001b[0;32m    152\u001b[0m   filtered_tb \u001b[39m=\u001b[39m _process_traceback_frames(e\u001b[39m.\u001b[39m__traceback__)\n\u001b[1;32m--> 153\u001b[0m   \u001b[39mraise\u001b[39;00m e\u001b[39m.\u001b[39mwith_traceback(filtered_tb) \u001b[39mfrom\u001b[39;00m \u001b[39mNone\u001b[39m\n\u001b[0;32m    154\u001b[0m \u001b[39mfinally\u001b[39;00m:\n\u001b[0;32m    155\u001b[0m   \u001b[39mdel\u001b[39;00m filtered_tb\n",
            "File \u001b[1;32mc:\\Users\\SON\\AppData\\Local\\Programs\\Python\\Python310\\lib\\site-packages\\keras\\losses.py:1485\u001b[0m, in \u001b[0;36mmean_squared_error\u001b[1;34m(y_true, y_pred)\u001b[0m\n\u001b[0;32m   1461\u001b[0m \u001b[39m\"\"\"Computes the mean squared error between labels and predictions.\u001b[39;00m\n\u001b[0;32m   1462\u001b[0m \n\u001b[0;32m   1463\u001b[0m \u001b[39mAfter computing the squared distance between the inputs, the mean value over\u001b[39;00m\n\u001b[1;32m   (...)\u001b[0m\n\u001b[0;32m   1482\u001b[0m \u001b[39m  Mean squared error values. shape = `[batch_size, d0, .. dN-1]`.\u001b[39;00m\n\u001b[0;32m   1483\u001b[0m \u001b[39m\"\"\"\u001b[39;00m\n\u001b[0;32m   1484\u001b[0m y_pred \u001b[39m=\u001b[39m tf\u001b[39m.\u001b[39mconvert_to_tensor(y_pred)\n\u001b[1;32m-> 1485\u001b[0m y_true \u001b[39m=\u001b[39m tf\u001b[39m.\u001b[39;49mcast(y_true, y_pred\u001b[39m.\u001b[39;49mdtype)\n\u001b[0;32m   1486\u001b[0m \u001b[39mreturn\u001b[39;00m backend\u001b[39m.\u001b[39mmean(tf\u001b[39m.\u001b[39mmath\u001b[39m.\u001b[39msquared_difference(y_pred, y_true), axis\u001b[39m=\u001b[39m\u001b[39m-\u001b[39m\u001b[39m1\u001b[39m)\n",
            "\u001b[1;31mValueError\u001b[0m: Attempt to convert a value ({'data': array([[0.00000000e+00, 1.82111053e-03, 0.00000000e+00, ...,\n        0.00000000e+00, 0.00000000e+00, 1.00000000e+00],\n       [0.00000000e+00, 5.12187337e-04, 0.00000000e+00, ...,\n        0.00000000e+00, 0.00000000e+00, 1.00000000e+00],\n       [0.00000000e+00, 3.06817535e-04, 0.00000000e+00, ...,\n        0.00000000e+00, 0.00000000e+00, 1.00000000e+00],\n       ...,\n       [0.00000000e+00, 2.22690146e-05, 1.30615922e-03, ...,\n        0.00000000e+00, 0.00000000e+00, 0.00000000e+00],\n       [0.00000000e+00, 2.91971525e-04, 0.00000000e+00, ...,\n        0.00000000e+00, 0.00000000e+00, 1.00000000e+00],\n       [0.00000000e+00, 2.22690146e-05, 0.00000000e+00, ...,\n        0.00000000e+00, 0.00000000e+00, 1.00000000e+00]]), 'label': 0           Normal\n1           Normal\n2           Normal\n3           Normal\n4           Normal\n            ...   \n773931    Abnormal\n773932    Abnormal\n773933    Abnormal\n773934    Abnormal\n773935    Abnormal\nName: label, Length: 773936, dtype: object}) with an unsupported type (<class 'dict'>) to a Tensor."
          ]
        }
      ],
      "source": [
        "label_predict1 = model.predict_class(train, threshold)\n",
        "print('Độ chính xác tập huấn luyện với full class', end=': ')\n",
        "print(accuracy_score(label, label_predict1))\n",
        "\n",
        "label_predict = model.predict_class(test['data'], threshold)\n",
        "print('Độ chính xác tập test với full class', end=': ')\n",
        "print(accuracy_score(test['label'], label_predict))\n",
        "\n",
        "labels = ['Normal', 'Abnormal']\n",
        "\n",
        "# matrix2 = confusion_matrix(label, label_predict1)\n",
        "# disp1 = ConfusionMatrixDisplay(\n",
        "#     confusion_matrix=matrix2, display_labels=labels)\n",
        "\n",
        "disp1.plot(cmap=plt.cm.Blues)\n",
        "print(classification_report(label,label_predict1,target_names=labels))\n",
        "print(classification_report(test['label'],label_predict,target_names=labels))"
      ]
    },
    {
      "cell_type": "code",
      "execution_count": null,
      "metadata": {},
      "outputs": [
        {
          "name": "stdout",
          "output_type": "stream",
          "text": [
            "5101/5101 [==============================] - 7s 1ms/step\n",
            "Độ chính xác tập test với 1 class: 0.8275095123430694\n"
          ]
        }
      ],
      "source": [
        "label_predict = model.predict_class(test['data'], threshold)\n",
        "print('Độ chính xác tập test với 1 class', end=': ')\n",
        "print(accuracy_score(test['label'], label_predict))\n"
      ]
    },
    {
      "cell_type": "code",
      "execution_count": null,
      "metadata": {},
      "outputs": [
        {
          "data": {
            "text/plain": [
              "(TensorShape([773936]),\n",
              " <tf.Tensor: shape=(773936,), dtype=float32, numpy=\n",
              " array([2.2290631e-07, 4.4825228e-07, 8.5160046e-08, ..., 9.7739249e-03,\n",
              "        1.0615976e-07, 1.2387597e-05], dtype=float32)>)"
            ]
          },
          "execution_count": 30,
          "metadata": {},
          "output_type": "execute_result"
        }
      ],
      "source": [
        "input_re = tf.concat([train_normal_re,train_abnormal_re], axis = 0)\n",
        "input_re.shape , input_re"
      ]
    },
    {
      "cell_type": "code",
      "execution_count": null,
      "metadata": {},
      "outputs": [],
      "source": [
        "label_mapping = {\"Normal\": 0, \"Abnormal\": 1}\n",
        "label_z = [label_mapping[label] for label in label]\n",
        "label_z = np.array(label_z)"
      ]
    },
    {
      "cell_type": "code",
      "execution_count": null,
      "metadata": {},
      "outputs": [],
      "source": [
        "def custom_loss(y_true, y_pred,input_re):\n",
        "    predicted_prob = tf.sigmoid(input_re - y_pred)\n",
        "    loss = keras.losses.binary_crossentropy(y_true, predicted_prob)\n",
        "    return loss"
      ]
    },
    {
      "cell_type": "code",
      "execution_count": null,
      "metadata": {},
      "outputs": [],
      "source": [
        "from tensorflow.keras.layers import Layer\n",
        "from tensorflow.keras.layers import Input, Dense, Dropout\n",
        "from tensorflow.keras.models import Model\n",
        "class ThresholdLayer(Layer):\n",
        "    def __init__(self, init_threshold, **kwargs):\n",
        "        super(ThresholdLayer, self).__init__(**kwargs)\n",
        "        self.threshold = tf.Variable(initial_value=init_threshold, trainable=True, dtype=tf.float32)\n",
        "\n",
        "    def call(self, inputs):\n",
        "        return inputs * self.threshold\n"
      ]
    },
    {
      "cell_type": "code",
      "execution_count": null,
      "metadata": {},
      "outputs": [],
      "source": [
        "input_layer = keras.layers.Input(shape=(1,), name=\"input_re\")\n",
        "x = Dense(32, activation='relu',kernel_initializer='he_normal')(input_layer)\n",
        "x = Dense(16, activation='relu',kernel_initializer='he_normal')(x)\n",
        "x = Dense(8, activation='relu',kernel_initializer='he_normal')(x)\n",
        "x = Dense(1, activation='sigmoid',kernel_initializer='he_normal')(x)\n",
        "threshold_layer_output = ThresholdLayer(init_threshold=sigma_threshold)(x)\n",
        "\n",
        "nn = keras.Model(inputs=input_layer, outputs=threshold_layer_output)\n",
        "# nn.compile(optimizer='adam', loss=create_custom_loss(input_re),metrics = 'accuracy')\n"
      ]
    },
    {
      "cell_type": "code",
      "execution_count": null,
      "metadata": {},
      "outputs": [],
      "source": [
        "optimizer = tf.keras.optimizers.Adam(learning_rate=0.0001)"
      ]
    },
    {
      "cell_type": "code",
      "execution_count": null,
      "metadata": {},
      "outputs": [],
      "source": [
        "EPOCHS = 50\n",
        "BATCH_SIZE = 128\n",
        "best_accuracy = 0.0"
      ]
    },
    {
      "cell_type": "code",
      "execution_count": null,
      "metadata": {},
      "outputs": [
        {
          "data": {
            "text/plain": [
              "<tensorflow.python.checkpoint.checkpoint.CheckpointLoadStatus at 0x29206eb5110>"
            ]
          },
          "execution_count": 68,
          "metadata": {},
          "output_type": "execute_result"
        }
      ],
      "source": [
        "model_path = 'Model/ThresholdNN_50.model'\n",
        "nn.load_weights(model_path)"
      ]
    },
    {
      "cell_type": "code",
      "execution_count": null,
      "metadata": {},
      "outputs": [
        {
          "data": {
            "text/plain": [
              "3.6521286915558435e-06"
            ]
          },
          "execution_count": 69,
          "metadata": {},
          "output_type": "execute_result"
        }
      ],
      "source": [
        "sigma_threshold"
      ]
    },
    {
      "cell_type": "code",
      "execution_count": null,
      "metadata": {},
      "outputs": [
        {
          "name": "stdout",
          "output_type": "stream",
          "text": [
            "Epoch 1/50, Loss: 0.3052265968264649, Threshold: [[0.0037287]]\n",
            "Epoch 2/50, Loss: 0.4081306467187759, Threshold: [[0.00375561]]\n",
            "Epoch 3/50, Loss: 0.408538351564487, Threshold: [[0.00378349]]\n",
            "WARNING:tensorflow:Detecting that an object or model or tf.train.Checkpoint is being deleted with unrestored values. See the following logs for the specific values in question. To silence these warnings, use `status.expect_partial()`. See https://www.tensorflow.org/api_docs/python/tf/train/Checkpoint#restorefor details about the status object returned by the restore function.\n",
            "WARNING:tensorflow:Value in checkpoint could not be found in the restored object: (root).layer_with_weights-3.kernel\n",
            "WARNING:tensorflow:Value in checkpoint could not be found in the restored object: (root).layer_with_weights-3.bias\n",
            "WARNING:tensorflow:Value in checkpoint could not be found in the restored object: (root).layer_with_weights-4.threshold\n",
            "Epoch 4/50, Loss: 0.4085944457092178, Threshold: [[0.00380099]]\n",
            "Epoch 5/50, Loss: 0.4087648740251893, Threshold: [[0.00382949]]\n",
            "Epoch 6/50, Loss: 0.4089267496573667, Threshold: [[0.00377855]]\n",
            "Epoch 7/50, Loss: 0.40918508662952874, Threshold: [[0.00383777]]\n",
            "Epoch 8/50, Loss: 0.4089164054610343, Threshold: [[0.00382709]]\n",
            "Epoch 9/50, Loss: 0.4088102550777093, Threshold: [[0.00386382]]\n"
          ]
        },
        {
          "ename": "KeyboardInterrupt",
          "evalue": "",
          "output_type": "error",
          "traceback": [
            "\u001b[1;31m---------------------------------------------------------------------------\u001b[0m",
            "\u001b[1;31mKeyboardInterrupt\u001b[0m                         Traceback (most recent call last)",
            "Cell \u001b[1;32mIn[71], line 18\u001b[0m\n\u001b[0;32m     16\u001b[0m \u001b[39m# print(predictions)\u001b[39;00m\n\u001b[0;32m     17\u001b[0m grads \u001b[39m=\u001b[39m tape\u001b[39m.\u001b[39mgradient(batch_loss, nn\u001b[39m.\u001b[39mtrainable_weights)\n\u001b[1;32m---> 18\u001b[0m optimizer\u001b[39m.\u001b[39;49mapply_gradients(\u001b[39mzip\u001b[39;49m(grads, nn\u001b[39m.\u001b[39;49mtrainable_weights))\n\u001b[0;32m     20\u001b[0m total_loss \u001b[39m+\u001b[39m\u001b[39m=\u001b[39m batch_loss\u001b[39m.\u001b[39mnumpy()\u001b[39m.\u001b[39mmean()\n\u001b[0;32m     21\u001b[0m num_batches \u001b[39m+\u001b[39m\u001b[39m=\u001b[39m \u001b[39m1\u001b[39m\n",
            "File \u001b[1;32mc:\\Users\\ADMIN\\AppData\\Local\\Programs\\Python\\Python311\\Lib\\site-packages\\keras\\src\\optimizers\\optimizer.py:1230\u001b[0m, in \u001b[0;36mOptimizer.apply_gradients\u001b[1;34m(self, grads_and_vars, name, skip_gradients_aggregation, **kwargs)\u001b[0m\n\u001b[0;32m   1228\u001b[0m \u001b[39mif\u001b[39;00m \u001b[39mnot\u001b[39;00m skip_gradients_aggregation \u001b[39mand\u001b[39;00m experimental_aggregate_gradients:\n\u001b[0;32m   1229\u001b[0m     grads_and_vars \u001b[39m=\u001b[39m \u001b[39mself\u001b[39m\u001b[39m.\u001b[39maggregate_gradients(grads_and_vars)\n\u001b[1;32m-> 1230\u001b[0m \u001b[39mreturn\u001b[39;00m \u001b[39msuper\u001b[39;49m()\u001b[39m.\u001b[39;49mapply_gradients(grads_and_vars, name\u001b[39m=\u001b[39;49mname)\n",
            "File \u001b[1;32mc:\\Users\\ADMIN\\AppData\\Local\\Programs\\Python\\Python311\\Lib\\site-packages\\keras\\src\\optimizers\\optimizer.py:652\u001b[0m, in \u001b[0;36m_BaseOptimizer.apply_gradients\u001b[1;34m(self, grads_and_vars, name)\u001b[0m\n\u001b[0;32m    650\u001b[0m \u001b[39mself\u001b[39m\u001b[39m.\u001b[39m_apply_weight_decay(trainable_variables)\n\u001b[0;32m    651\u001b[0m grads_and_vars \u001b[39m=\u001b[39m \u001b[39mlist\u001b[39m(\u001b[39mzip\u001b[39m(grads, trainable_variables))\n\u001b[1;32m--> 652\u001b[0m iteration \u001b[39m=\u001b[39m \u001b[39mself\u001b[39;49m\u001b[39m.\u001b[39;49m_internal_apply_gradients(grads_and_vars)\n\u001b[0;32m    654\u001b[0m \u001b[39m# Apply variable constraints after applying gradients.\u001b[39;00m\n\u001b[0;32m    655\u001b[0m \u001b[39mfor\u001b[39;00m variable \u001b[39min\u001b[39;00m trainable_variables:\n",
            "File \u001b[1;32mc:\\Users\\ADMIN\\AppData\\Local\\Programs\\Python\\Python311\\Lib\\site-packages\\keras\\src\\optimizers\\optimizer.py:1260\u001b[0m, in \u001b[0;36mOptimizer._internal_apply_gradients\u001b[1;34m(self, grads_and_vars)\u001b[0m\n\u001b[0;32m   1256\u001b[0m \u001b[39mif\u001b[39;00m \u001b[39mself\u001b[39m\u001b[39m.\u001b[39m_mesh \u001b[39mor\u001b[39;00m \u001b[39mself\u001b[39m\u001b[39m.\u001b[39m_run_with_dtensor:\n\u001b[0;32m   1257\u001b[0m     \u001b[39m# Skip any usage of strategy logic for DTensor\u001b[39;00m\n\u001b[0;32m   1258\u001b[0m     \u001b[39mreturn\u001b[39;00m \u001b[39msuper\u001b[39m()\u001b[39m.\u001b[39m_internal_apply_gradients(grads_and_vars)\n\u001b[1;32m-> 1260\u001b[0m \u001b[39mreturn\u001b[39;00m tf\u001b[39m.\u001b[39;49m__internal__\u001b[39m.\u001b[39;49mdistribute\u001b[39m.\u001b[39;49minterim\u001b[39m.\u001b[39;49mmaybe_merge_call(\n\u001b[0;32m   1261\u001b[0m     \u001b[39mself\u001b[39;49m\u001b[39m.\u001b[39;49m_distributed_apply_gradients_fn,\n\u001b[0;32m   1262\u001b[0m     \u001b[39mself\u001b[39;49m\u001b[39m.\u001b[39;49m_distribution_strategy,\n\u001b[0;32m   1263\u001b[0m     grads_and_vars,\n\u001b[0;32m   1264\u001b[0m )\n",
            "File \u001b[1;32mc:\\Users\\ADMIN\\AppData\\Local\\Programs\\Python\\Python311\\Lib\\site-packages\\tensorflow\\python\\distribute\\merge_call_interim.py:51\u001b[0m, in \u001b[0;36mmaybe_merge_call\u001b[1;34m(fn, strategy, *args, **kwargs)\u001b[0m\n\u001b[0;32m     31\u001b[0m \u001b[39m\u001b[39m\u001b[39m\"\"\"Maybe invoke `fn` via `merge_call` which may or may not be fulfilled.\u001b[39;00m\n\u001b[0;32m     32\u001b[0m \n\u001b[0;32m     33\u001b[0m \u001b[39mThe caller of this utility function requests to invoke `fn` via `merge_call`\u001b[39;00m\n\u001b[1;32m   (...)\u001b[0m\n\u001b[0;32m     48\u001b[0m \u001b[39m  The return value of the `fn` call.\u001b[39;00m\n\u001b[0;32m     49\u001b[0m \u001b[39m\"\"\"\u001b[39;00m\n\u001b[0;32m     50\u001b[0m \u001b[39mif\u001b[39;00m strategy_supports_no_merge_call():\n\u001b[1;32m---> 51\u001b[0m   \u001b[39mreturn\u001b[39;00m fn(strategy, \u001b[39m*\u001b[39;49margs, \u001b[39m*\u001b[39;49m\u001b[39m*\u001b[39;49mkwargs)\n\u001b[0;32m     52\u001b[0m \u001b[39melse\u001b[39;00m:\n\u001b[0;32m     53\u001b[0m   \u001b[39mreturn\u001b[39;00m distribute_lib\u001b[39m.\u001b[39mget_replica_context()\u001b[39m.\u001b[39mmerge_call(\n\u001b[0;32m     54\u001b[0m       fn, args\u001b[39m=\u001b[39margs, kwargs\u001b[39m=\u001b[39mkwargs)\n",
            "File \u001b[1;32mc:\\Users\\ADMIN\\AppData\\Local\\Programs\\Python\\Python311\\Lib\\site-packages\\keras\\src\\optimizers\\optimizer.py:1352\u001b[0m, in \u001b[0;36mOptimizer._distributed_apply_gradients_fn\u001b[1;34m(self, distribution, grads_and_vars, **kwargs)\u001b[0m\n\u001b[0;32m   1349\u001b[0m         \u001b[39mreturn\u001b[39;00m \u001b[39mself\u001b[39m\u001b[39m.\u001b[39m_update_step(grad, var)\n\u001b[0;32m   1351\u001b[0m \u001b[39mfor\u001b[39;00m grad, var \u001b[39min\u001b[39;00m grads_and_vars:\n\u001b[1;32m-> 1352\u001b[0m     distribution\u001b[39m.\u001b[39;49mextended\u001b[39m.\u001b[39;49mupdate(\n\u001b[0;32m   1353\u001b[0m         var, apply_grad_to_update_var, args\u001b[39m=\u001b[39;49m(grad,), group\u001b[39m=\u001b[39;49m\u001b[39mFalse\u001b[39;49;00m\n\u001b[0;32m   1354\u001b[0m     )\n\u001b[0;32m   1356\u001b[0m \u001b[39mif\u001b[39;00m \u001b[39mself\u001b[39m\u001b[39m.\u001b[39muse_ema:\n\u001b[0;32m   1357\u001b[0m     _, var_list \u001b[39m=\u001b[39m \u001b[39mzip\u001b[39m(\u001b[39m*\u001b[39mgrads_and_vars)\n",
            "File \u001b[1;32mc:\\Users\\ADMIN\\AppData\\Local\\Programs\\Python\\Python311\\Lib\\site-packages\\tensorflow\\python\\distribute\\distribute_lib.py:2992\u001b[0m, in \u001b[0;36mStrategyExtendedV2.update\u001b[1;34m(self, var, fn, args, kwargs, group)\u001b[0m\n\u001b[0;32m   2989\u001b[0m   fn \u001b[39m=\u001b[39m autograph\u001b[39m.\u001b[39mtf_convert(\n\u001b[0;32m   2990\u001b[0m       fn, autograph_ctx\u001b[39m.\u001b[39mcontrol_status_ctx(), convert_by_default\u001b[39m=\u001b[39m\u001b[39mFalse\u001b[39;00m)\n\u001b[0;32m   2991\u001b[0m   \u001b[39mwith\u001b[39;00m \u001b[39mself\u001b[39m\u001b[39m.\u001b[39m_container_strategy()\u001b[39m.\u001b[39mscope():\n\u001b[1;32m-> 2992\u001b[0m     \u001b[39mreturn\u001b[39;00m \u001b[39mself\u001b[39;49m\u001b[39m.\u001b[39;49m_update(var, fn, args, kwargs, group)\n\u001b[0;32m   2993\u001b[0m \u001b[39melse\u001b[39;00m:\n\u001b[0;32m   2994\u001b[0m   \u001b[39mreturn\u001b[39;00m \u001b[39mself\u001b[39m\u001b[39m.\u001b[39m_replica_ctx_update(\n\u001b[0;32m   2995\u001b[0m       var, fn, args\u001b[39m=\u001b[39margs, kwargs\u001b[39m=\u001b[39mkwargs, group\u001b[39m=\u001b[39mgroup)\n",
            "File \u001b[1;32mc:\\Users\\ADMIN\\AppData\\Local\\Programs\\Python\\Python311\\Lib\\site-packages\\tensorflow\\python\\distribute\\distribute_lib.py:4062\u001b[0m, in \u001b[0;36m_DefaultDistributionExtended._update\u001b[1;34m(self, var, fn, args, kwargs, group)\u001b[0m\n\u001b[0;32m   4059\u001b[0m \u001b[39mdef\u001b[39;00m \u001b[39m_update\u001b[39m(\u001b[39mself\u001b[39m, var, fn, args, kwargs, group):\n\u001b[0;32m   4060\u001b[0m   \u001b[39m# The implementations of _update() and _update_non_slot() are identical\u001b[39;00m\n\u001b[0;32m   4061\u001b[0m   \u001b[39m# except _update() passes `var` as the first argument to `fn()`.\u001b[39;00m\n\u001b[1;32m-> 4062\u001b[0m   \u001b[39mreturn\u001b[39;00m \u001b[39mself\u001b[39;49m\u001b[39m.\u001b[39;49m_update_non_slot(var, fn, (var,) \u001b[39m+\u001b[39;49m \u001b[39mtuple\u001b[39;49m(args), kwargs, group)\n",
            "File \u001b[1;32mc:\\Users\\ADMIN\\AppData\\Local\\Programs\\Python\\Python311\\Lib\\site-packages\\tensorflow\\python\\distribute\\distribute_lib.py:4068\u001b[0m, in \u001b[0;36m_DefaultDistributionExtended._update_non_slot\u001b[1;34m(self, colocate_with, fn, args, kwargs, should_group)\u001b[0m\n\u001b[0;32m   4064\u001b[0m \u001b[39mdef\u001b[39;00m \u001b[39m_update_non_slot\u001b[39m(\u001b[39mself\u001b[39m, colocate_with, fn, args, kwargs, should_group):\n\u001b[0;32m   4065\u001b[0m   \u001b[39m# TODO(josh11b): Figure out what we should be passing to UpdateContext()\u001b[39;00m\n\u001b[0;32m   4066\u001b[0m   \u001b[39m# once that value is used for something.\u001b[39;00m\n\u001b[0;32m   4067\u001b[0m   \u001b[39mwith\u001b[39;00m UpdateContext(colocate_with):\n\u001b[1;32m-> 4068\u001b[0m     result \u001b[39m=\u001b[39m fn(\u001b[39m*\u001b[39;49margs, \u001b[39m*\u001b[39;49m\u001b[39m*\u001b[39;49mkwargs)\n\u001b[0;32m   4069\u001b[0m     \u001b[39mif\u001b[39;00m should_group:\n\u001b[0;32m   4070\u001b[0m       \u001b[39mreturn\u001b[39;00m result\n",
            "File \u001b[1;32mc:\\Users\\ADMIN\\AppData\\Local\\Programs\\Python\\Python311\\Lib\\site-packages\\tensorflow\\python\\autograph\\impl\\api.py:596\u001b[0m, in \u001b[0;36mcall_with_unspecified_conversion_status.<locals>.wrapper\u001b[1;34m(*args, **kwargs)\u001b[0m\n\u001b[0;32m    594\u001b[0m \u001b[39mdef\u001b[39;00m \u001b[39mwrapper\u001b[39m(\u001b[39m*\u001b[39margs, \u001b[39m*\u001b[39m\u001b[39m*\u001b[39mkwargs):\n\u001b[0;32m    595\u001b[0m   \u001b[39mwith\u001b[39;00m ag_ctx\u001b[39m.\u001b[39mControlStatusCtx(status\u001b[39m=\u001b[39mag_ctx\u001b[39m.\u001b[39mStatus\u001b[39m.\u001b[39mUNSPECIFIED):\n\u001b[1;32m--> 596\u001b[0m     \u001b[39mreturn\u001b[39;00m func(\u001b[39m*\u001b[39;49margs, \u001b[39m*\u001b[39;49m\u001b[39m*\u001b[39;49mkwargs)\n",
            "File \u001b[1;32mc:\\Users\\ADMIN\\AppData\\Local\\Programs\\Python\\Python311\\Lib\\site-packages\\keras\\src\\optimizers\\optimizer.py:1349\u001b[0m, in \u001b[0;36mOptimizer._distributed_apply_gradients_fn.<locals>.apply_grad_to_update_var\u001b[1;34m(var, grad)\u001b[0m\n\u001b[0;32m   1347\u001b[0m     \u001b[39mreturn\u001b[39;00m \u001b[39mself\u001b[39m\u001b[39m.\u001b[39m_update_step_xla(grad, var, \u001b[39mid\u001b[39m(\u001b[39mself\u001b[39m\u001b[39m.\u001b[39m_var_key(var)))\n\u001b[0;32m   1348\u001b[0m \u001b[39melse\u001b[39;00m:\n\u001b[1;32m-> 1349\u001b[0m     \u001b[39mreturn\u001b[39;00m \u001b[39mself\u001b[39;49m\u001b[39m.\u001b[39;49m_update_step(grad, var)\n",
            "File \u001b[1;32mc:\\Users\\ADMIN\\AppData\\Local\\Programs\\Python\\Python311\\Lib\\site-packages\\keras\\src\\optimizers\\optimizer.py:241\u001b[0m, in \u001b[0;36m_BaseOptimizer._update_step\u001b[1;34m(self, gradient, variable)\u001b[0m\n\u001b[0;32m    232\u001b[0m \u001b[39mif\u001b[39;00m \u001b[39mself\u001b[39m\u001b[39m.\u001b[39m_var_key(variable) \u001b[39mnot\u001b[39;00m \u001b[39min\u001b[39;00m \u001b[39mself\u001b[39m\u001b[39m.\u001b[39m_index_dict:\n\u001b[0;32m    233\u001b[0m     \u001b[39mraise\u001b[39;00m \u001b[39mKeyError\u001b[39;00m(\n\u001b[0;32m    234\u001b[0m         \u001b[39mf\u001b[39m\u001b[39m\"\u001b[39m\u001b[39mThe optimizer cannot recognize variable \u001b[39m\u001b[39m{\u001b[39;00mvariable\u001b[39m.\u001b[39mname\u001b[39m}\u001b[39;00m\u001b[39m. \u001b[39m\u001b[39m\"\u001b[39m\n\u001b[0;32m    235\u001b[0m         \u001b[39m\"\u001b[39m\u001b[39mThis usually means you are trying to call the optimizer to \u001b[39m\u001b[39m\"\u001b[39m\n\u001b[1;32m   (...)\u001b[0m\n\u001b[0;32m    239\u001b[0m         \u001b[39mf\u001b[39m\u001b[39m\"\u001b[39m\u001b[39m`tf.keras.optimizers.legacy.\u001b[39m\u001b[39m{\u001b[39;00m\u001b[39mself\u001b[39m\u001b[39m.\u001b[39m\u001b[39m__class__\u001b[39m\u001b[39m.\u001b[39m\u001b[39m__name__\u001b[39m\u001b[39m}\u001b[39;00m\u001b[39m.\u001b[39m\u001b[39m\"\u001b[39m\n\u001b[0;32m    240\u001b[0m     )\n\u001b[1;32m--> 241\u001b[0m \u001b[39mself\u001b[39;49m\u001b[39m.\u001b[39;49mupdate_step(gradient, variable)\n",
            "File \u001b[1;32mc:\\Users\\ADMIN\\AppData\\Local\\Programs\\Python\\Python311\\Lib\\site-packages\\keras\\src\\optimizers\\adam.py:166\u001b[0m, in \u001b[0;36mAdam.update_step\u001b[1;34m(self, gradient, variable)\u001b[0m\n\u001b[0;32m    164\u001b[0m beta_2_power \u001b[39m=\u001b[39m \u001b[39mNone\u001b[39;00m\n\u001b[0;32m    165\u001b[0m lr \u001b[39m=\u001b[39m tf\u001b[39m.\u001b[39mcast(\u001b[39mself\u001b[39m\u001b[39m.\u001b[39mlearning_rate, variable\u001b[39m.\u001b[39mdtype)\n\u001b[1;32m--> 166\u001b[0m local_step \u001b[39m=\u001b[39m tf\u001b[39m.\u001b[39mcast(\u001b[39mself\u001b[39;49m\u001b[39m.\u001b[39;49miterations \u001b[39m+\u001b[39;49m \u001b[39m1\u001b[39;49m, variable\u001b[39m.\u001b[39mdtype)\n\u001b[0;32m    167\u001b[0m beta_1_power \u001b[39m=\u001b[39m tf\u001b[39m.\u001b[39mpow(tf\u001b[39m.\u001b[39mcast(\u001b[39mself\u001b[39m\u001b[39m.\u001b[39mbeta_1, variable\u001b[39m.\u001b[39mdtype), local_step)\n\u001b[0;32m    168\u001b[0m beta_2_power \u001b[39m=\u001b[39m tf\u001b[39m.\u001b[39mpow(tf\u001b[39m.\u001b[39mcast(\u001b[39mself\u001b[39m\u001b[39m.\u001b[39mbeta_2, variable\u001b[39m.\u001b[39mdtype), local_step)\n",
            "File \u001b[1;32mc:\\Users\\ADMIN\\AppData\\Local\\Programs\\Python\\Python311\\Lib\\site-packages\\tensorflow\\python\\ops\\variables.py:1011\u001b[0m, in \u001b[0;36mVariable._OverloadOperator.<locals>._run_op\u001b[1;34m(a, *args, **kwargs)\u001b[0m\n\u001b[0;32m   1009\u001b[0m \u001b[39mdef\u001b[39;00m \u001b[39m_run_op\u001b[39m(a, \u001b[39m*\u001b[39margs, \u001b[39m*\u001b[39m\u001b[39m*\u001b[39mkwargs):\n\u001b[0;32m   1010\u001b[0m   \u001b[39m# pylint: disable=protected-access\u001b[39;00m\n\u001b[1;32m-> 1011\u001b[0m   \u001b[39mreturn\u001b[39;00m tensor_oper(a\u001b[39m.\u001b[39;49mvalue(), \u001b[39m*\u001b[39;49margs, \u001b[39m*\u001b[39;49m\u001b[39m*\u001b[39;49mkwargs)\n",
            "\u001b[1;31mKeyboardInterrupt\u001b[0m: "
          ]
        }
      ],
      "source": [
        "for epoch in range(EPOCHS):\n",
        "    total_loss = 0.0\n",
        "    num_batches = 0\n",
        "\n",
        "    all_predictions = []\n",
        "    all_labels = []\n",
        "\n",
        "    for batch_start in range(0, len(input_re), BATCH_SIZE):\n",
        "        batch_end = batch_start + BATCH_SIZE\n",
        "        x_batch = input_re[batch_start:batch_end]\n",
        "        y_batch = label_z[batch_start:batch_end]\n",
        "        #y_batch2 = label[batch_start:batch_end]\n",
        "        with tf.GradientTape() as tape:\n",
        "            predictions = nn(x_batch, training=True)\n",
        "            batch_loss = custom_loss(y_batch, predictions, x_batch)\n",
        "        # print(predictions)\n",
        "        grads = tape.gradient(batch_loss, nn.trainable_weights)\n",
        "        optimizer.apply_gradients(zip(grads, nn.trainable_weights))\n",
        "\n",
        "        total_loss += batch_loss.numpy().mean()\n",
        "        num_batches += 1\n",
        "    \n",
        "    threshold_0 = nn(np.mean(input_re).reshape(1,-1))\n",
        "    avg_train_loss = total_loss / num_batches\n",
        "\n",
        "    print(f\"Epoch {epoch + 1}/{EPOCHS}, Loss: {avg_train_loss}, Threshold: {threshold_0.numpy()}\")\n",
        "\n",
        "\n"
      ]
    },
    {
      "cell_type": "code",
      "execution_count": null,
      "metadata": {},
      "outputs": [
        {
          "name": "stdout",
          "output_type": "stream",
          "text": [
            "WARNING:tensorflow:Compiled the loaded model, but the compiled metrics have yet to be built. `model.compile_metrics` will be empty until you train or evaluate the model.\n"
          ]
        },
        {
          "name": "stdout",
          "output_type": "stream",
          "text": [
            "INFO:tensorflow:Assets written to: Model/ThresholdNN_100.model\\assets\n"
          ]
        },
        {
          "name": "stderr",
          "output_type": "stream",
          "text": [
            "INFO:tensorflow:Assets written to: Model/ThresholdNN_100.model\\assets\n"
          ]
        }
      ],
      "source": [
        "nn.save('Model/ThresholdNN_100.model', save_format='tf')  # The file needs to end with the .keras extension\n"
      ]
    },
    {
      "cell_type": "code",
      "execution_count": null,
      "metadata": {},
      "outputs": [
        {
          "data": {
            "image/png": "[encoded data removed]",
            "text/plain": [
              "<Figure size 1200x500 with 1 Axes>"
            ]
          },
          "metadata": {},
          "output_type": "display_data"
        }
      ],
      "source": [
        "import seaborn as sns\n",
        "fig, ax = plt.subplots(figsize=(12, 5))\n",
        "sns.histplot(data=test_normal_re, label='Normal', kde=False, ax=ax, color='#330C2F')\n",
        "sns.histplot(data=test_abnormal_re, label='Abnormal', kde=False, ax=ax, color='#CBF3D2')\n",
        "ax.axvline(new_threshold2, ls='-.', label='Threshold')\n",
        "ax.legend(loc='best', fontsize=20)\n",
        "ax.set_xlim([0, 0.00008])\n",
        "fig.tight_layout()\n",
        "plt.title('Histogramm độ lỗi tái tạo của tập huấn luyện FoT, DoS')\n",
        "plt.show()"
      ]
    },
    {
      "cell_type": "code",
      "execution_count": null,
      "metadata": {
        "colab": {
          "base_uri": "https://localhost:8080/",
          "height": 498
        },
        "id": "Y6ecIvL7yyRU",
        "outputId": "a15ce18a-a150-4fd3-8e66-610fba5efc06"
      },
      "outputs": [
        {
          "data": {
            "image/png": "[encoded data removed]",
            "text/plain": [
              "<Figure size 1200x500 with 1 Axes>"
            ]
          },
          "metadata": {},
          "output_type": "display_data"
        }
      ],
      "source": [
        "import seaborn as sns\n",
        "fig, ax = plt.subplots(figsize=(12, 5))\n",
        "sns.histplot(data=train_normal_re, label='Normal', kde=False, ax=ax, color='#330C2F')\n",
        "sns.histplot(data=train_abnormal_re, label='Abnormal', kde=False, ax=ax, color='#CBF3D2')\n",
        "ax.axvline(threshold, ls='-.', label='Threshold')\n",
        "ax.legend(loc='best', fontsize=20)\n",
        "ax.set_xlim([0, 0.0002])\n",
        "fig.tight_layout()\n",
        "plt.title('Histogramm độ lỗi tái tạo của tập huấn luyện DoS_Gas,BP, DoS')\n",
        "plt.show()\n",
        "#threshold = 0.00069"
      ]
    },
    {
      "cell_type": "code",
      "execution_count": null,
      "metadata": {},
      "outputs": [
        {
          "data": {
            "image/png": "[encoded data removed]",
            "text/plain": [
              "<Figure size 1200x500 with 1 Axes>"
            ]
          },
          "metadata": {},
          "output_type": "display_data"
        }
      ],
      "source": [
        "import seaborn as sns\n",
        "fig, ax = plt.subplots(figsize=(12, 5))\n",
        "sns.histplot(data=train_normal_re, label='Normal', kde=False, ax=ax, color='#330C2F')\n",
        "sns.histplot(data=train_abnormal_re, label='Abnormal', kde=False, ax=ax, color='#CBF3D2')\n",
        "ax.axvline(threshold, ls='-.', label='Threshold')\n",
        "ax.legend(loc='best', fontsize=20)\n",
        "ax.set_xlim([0, 0.0002])\n",
        "fig.tight_layout()\n",
        "plt.title('Histogramm độ lỗi tái tạo của tập huấn luyện BP, DoS')\n",
        "plt.show()\n",
        "#threshold = 0.00077"
      ]
    },
    {
      "cell_type": "code",
      "execution_count": null,
      "metadata": {
        "colab": {
          "base_uri": "https://localhost:8080/",
          "height": 498
        },
        "id": "Bldsvni1zJtW",
        "outputId": "b45b32e1-8c2e-4c92-831e-424a7afad463"
      },
      "outputs": [
        {
          "data": {
            "image/png": "[encoded data removed]",
            "text/plain": [
              "<Figure size 1200x500 with 1 Axes>"
            ]
          },
          "metadata": {},
          "output_type": "display_data"
        }
      ],
      "source": [
        "import seaborn as sns\n",
        "fig, ax = plt.subplots(figsize=(12, 5))\n",
        "sns.histplot(data=train_normal_re, label='Normal', kde=False, ax=ax, color='#330C2F')\n",
        "sns.histplot(data=train_abnormal_re, label='Abnormal', kde=False, ax=ax, color='#CBF3D2')\n",
        "ax.axvline(threshold, ls='-.', label='Threshold')\n",
        "ax.legend(loc='best', fontsize=20)\n",
        "ax.set_xlim([0, 0.0002])\n",
        "fig.tight_layout()\n",
        "plt.title('Histogramm độ lỗi tái tạo của tập huấn luyện DoS')\n",
        "plt.show()\n",
        "#threshold = 0.0008"
      ]
    },
    {
      "cell_type": "code",
      "execution_count": null,
      "metadata": {},
      "outputs": [],
      "source": [
        "from sklearn import svm "
      ]
    },
    {
      "cell_type": "code",
      "execution_count": null,
      "metadata": {},
      "outputs": [],
      "source": [
        "clf = svm.SVC(kernel='linear')\n",
        "clf2 = svm.OneClassSVM(kernel='rbf', gamma='auto')"
      ]
    },
    {
      "cell_type": "code",
      "execution_count": null,
      "metadata": {},
      "outputs": [
        {
          "data": {
            "text/html": [
              "<style>#sk-container-id-1 {color: black;}#sk-container-id-1 pre{padding: 0;}#sk-container-id-1 div.sk-toggleable {background-color: white;}#sk-container-id-1 label.sk-toggleable__label {cursor: pointer;display: block;width: 100%;margin-bottom: 0;padding: 0.3em;box-sizing: border-box;text-align: center;}#sk-container-id-1 label.sk-toggleable__label-arrow:before {content: \"▸\";float: left;margin-right: 0.25em;color: #696969;}#sk-container-id-1 label.sk-toggleable__label-arrow:hover:before {color: black;}#sk-container-id-1 div.sk-estimator:hover label.sk-toggleable__label-arrow:before {color: black;}#sk-container-id-1 div.sk-toggleable__content {max-height: 0;max-width: 0;overflow: hidden;text-align: left;background-color: #f0f8ff;}#sk-container-id-1 div.sk-toggleable__content pre {margin: 0.2em;color: black;border-radius: 0.25em;background-color: #f0f8ff;}#sk-container-id-1 input.sk-toggleable__control:checked~div.sk-toggleable__content {max-height: 200px;max-width: 100%;overflow: auto;}#sk-container-id-1 input.sk-toggleable__control:checked~label.sk-toggleable__label-arrow:before {content: \"▾\";}#sk-container-id-1 div.sk-estimator input.sk-toggleable__control:checked~label.sk-toggleable__label {background-color: #d4ebff;}#sk-container-id-1 div.sk-label input.sk-toggleable__control:checked~label.sk-toggleable__label {background-color: #d4ebff;}#sk-container-id-1 input.sk-hidden--visually {border: 0;clip: rect(1px 1px 1px 1px);clip: rect(1px, 1px, 1px, 1px);height: 1px;margin: -1px;overflow: hidden;padding: 0;position: absolute;width: 1px;}#sk-container-id-1 div.sk-estimator {font-family: monospace;background-color: #f0f8ff;border: 1px dotted black;border-radius: 0.25em;box-sizing: border-box;margin-bottom: 0.5em;}#sk-container-id-1 div.sk-estimator:hover {background-color: #d4ebff;}#sk-container-id-1 div.sk-parallel-item::after {content: \"\";width: 100%;border-bottom: 1px solid gray;flex-grow: 1;}#sk-container-id-1 div.sk-label:hover label.sk-toggleable__label {background-color: #d4ebff;}#sk-container-id-1 div.sk-serial::before {content: \"\";position: absolute;border-left: 1px solid gray;box-sizing: border-box;top: 0;bottom: 0;left: 50%;z-index: 0;}#sk-container-id-1 div.sk-serial {display: flex;flex-direction: column;align-items: center;background-color: white;padding-right: 0.2em;padding-left: 0.2em;position: relative;}#sk-container-id-1 div.sk-item {position: relative;z-index: 1;}#sk-container-id-1 div.sk-parallel {display: flex;align-items: stretch;justify-content: center;background-color: white;position: relative;}#sk-container-id-1 div.sk-item::before, #sk-container-id-1 div.sk-parallel-item::before {content: \"\";position: absolute;border-left: 1px solid gray;box-sizing: border-box;top: 0;bottom: 0;left: 50%;z-index: -1;}#sk-container-id-1 div.sk-parallel-item {display: flex;flex-direction: column;z-index: 1;position: relative;background-color: white;}#sk-container-id-1 div.sk-parallel-item:first-child::after {align-self: flex-end;width: 50%;}#sk-container-id-1 div.sk-parallel-item:last-child::after {align-self: flex-start;width: 50%;}#sk-container-id-1 div.sk-parallel-item:only-child::after {width: 0;}#sk-container-id-1 div.sk-dashed-wrapped {border: 1px dashed gray;margin: 0 0.4em 0.5em 0.4em;box-sizing: border-box;padding-bottom: 0.4em;background-color: white;}#sk-container-id-1 div.sk-label label {font-family: monospace;font-weight: bold;display: inline-block;line-height: 1.2em;}#sk-container-id-1 div.sk-label-container {text-align: center;}#sk-container-id-1 div.sk-container {/* jupyter's `normalize.less` sets `[hidden] { display: none; }` but bootstrap.min.css set `[hidden] { display: none !important; }` so we also need the `!important` here to be able to override the default hidden behavior on the sphinx rendered scikit-learn.org. See: https://github.com/scikit-learn/scikit-learn/issues/21755 */display: inline-block !important;position: relative;}#sk-container-id-1 div.sk-text-repr-fallback {display: none;}</style><div id=\"sk-container-id-1\" class=\"sk-top-container\"><div class=\"sk-text-repr-fallback\"><pre>SVC(kernel=&#x27;linear&#x27;)</pre><b>In a Jupyter environment, please rerun this cell to show the HTML representation or trust the notebook. <br />On GitHub, the HTML representation is unable to render, please try loading this page with nbviewer.org.</b></div><div class=\"sk-container\" hidden><div class=\"sk-item\"><div class=\"sk-estimator sk-toggleable\"><input class=\"sk-toggleable__control sk-hidden--visually\" id=\"sk-estimator-id-1\" type=\"checkbox\" checked><label for=\"sk-estimator-id-1\" class=\"sk-toggleable__label sk-toggleable__label-arrow\">SVC</label><div class=\"sk-toggleable__content\"><pre>SVC(kernel=&#x27;linear&#x27;)</pre></div></div></div></div></div>"
            ],
            "text/plain": [
              "SVC(kernel='linear')"
            ]
          },
          "execution_count": 16,
          "metadata": {},
          "output_type": "execute_result"
        }
      ],
      "source": [
        "clf.fit(train,label)"
      ]
    },
    {
      "cell_type": "code",
      "execution_count": null,
      "metadata": {},
      "outputs": [],
      "source": [
        "y_pred = clf.predict(test['data'])"
      ]
    },
    {
      "cell_type": "code",
      "execution_count": null,
      "metadata": {},
      "outputs": [
        {
          "name": "stdout",
          "output_type": "stream",
          "text": [
            "Accuracy: 0.900975\n"
          ]
        }
      ],
      "source": [
        "accuracy = accuracy_score(test['label'], y_pred)\n",
        "print(\"Accuracy:\", accuracy)"
      ]
    },
    {
      "cell_type": "code",
      "execution_count": null,
      "metadata": {},
      "outputs": [
        {
          "data": {
            "text/html": [
              "<style>#sk-container-id-2 {color: black;}#sk-container-id-2 pre{padding: 0;}#sk-container-id-2 div.sk-toggleable {background-color: white;}#sk-container-id-2 label.sk-toggleable__label {cursor: pointer;display: block;width: 100%;margin-bottom: 0;padding: 0.3em;box-sizing: border-box;text-align: center;}#sk-container-id-2 label.sk-toggleable__label-arrow:before {content: \"▸\";float: left;margin-right: 0.25em;color: #696969;}#sk-container-id-2 label.sk-toggleable__label-arrow:hover:before {color: black;}#sk-container-id-2 div.sk-estimator:hover label.sk-toggleable__label-arrow:before {color: black;}#sk-container-id-2 div.sk-toggleable__content {max-height: 0;max-width: 0;overflow: hidden;text-align: left;background-color: #f0f8ff;}#sk-container-id-2 div.sk-toggleable__content pre {margin: 0.2em;color: black;border-radius: 0.25em;background-color: #f0f8ff;}#sk-container-id-2 input.sk-toggleable__control:checked~div.sk-toggleable__content {max-height: 200px;max-width: 100%;overflow: auto;}#sk-container-id-2 input.sk-toggleable__control:checked~label.sk-toggleable__label-arrow:before {content: \"▾\";}#sk-container-id-2 div.sk-estimator input.sk-toggleable__control:checked~label.sk-toggleable__label {background-color: #d4ebff;}#sk-container-id-2 div.sk-label input.sk-toggleable__control:checked~label.sk-toggleable__label {background-color: #d4ebff;}#sk-container-id-2 input.sk-hidden--visually {border: 0;clip: rect(1px 1px 1px 1px);clip: rect(1px, 1px, 1px, 1px);height: 1px;margin: -1px;overflow: hidden;padding: 0;position: absolute;width: 1px;}#sk-container-id-2 div.sk-estimator {font-family: monospace;background-color: #f0f8ff;border: 1px dotted black;border-radius: 0.25em;box-sizing: border-box;margin-bottom: 0.5em;}#sk-container-id-2 div.sk-estimator:hover {background-color: #d4ebff;}#sk-container-id-2 div.sk-parallel-item::after {content: \"\";width: 100%;border-bottom: 1px solid gray;flex-grow: 1;}#sk-container-id-2 div.sk-label:hover label.sk-toggleable__label {background-color: #d4ebff;}#sk-container-id-2 div.sk-serial::before {content: \"\";position: absolute;border-left: 1px solid gray;box-sizing: border-box;top: 0;bottom: 0;left: 50%;z-index: 0;}#sk-container-id-2 div.sk-serial {display: flex;flex-direction: column;align-items: center;background-color: white;padding-right: 0.2em;padding-left: 0.2em;position: relative;}#sk-container-id-2 div.sk-item {position: relative;z-index: 1;}#sk-container-id-2 div.sk-parallel {display: flex;align-items: stretch;justify-content: center;background-color: white;position: relative;}#sk-container-id-2 div.sk-item::before, #sk-container-id-2 div.sk-parallel-item::before {content: \"\";position: absolute;border-left: 1px solid gray;box-sizing: border-box;top: 0;bottom: 0;left: 50%;z-index: -1;}#sk-container-id-2 div.sk-parallel-item {display: flex;flex-direction: column;z-index: 1;position: relative;background-color: white;}#sk-container-id-2 div.sk-parallel-item:first-child::after {align-self: flex-end;width: 50%;}#sk-container-id-2 div.sk-parallel-item:last-child::after {align-self: flex-start;width: 50%;}#sk-container-id-2 div.sk-parallel-item:only-child::after {width: 0;}#sk-container-id-2 div.sk-dashed-wrapped {border: 1px dashed gray;margin: 0 0.4em 0.5em 0.4em;box-sizing: border-box;padding-bottom: 0.4em;background-color: white;}#sk-container-id-2 div.sk-label label {font-family: monospace;font-weight: bold;display: inline-block;line-height: 1.2em;}#sk-container-id-2 div.sk-label-container {text-align: center;}#sk-container-id-2 div.sk-container {/* jupyter's `normalize.less` sets `[hidden] { display: none; }` but bootstrap.min.css set `[hidden] { display: none !important; }` so we also need the `!important` here to be able to override the default hidden behavior on the sphinx rendered scikit-learn.org. See: https://github.com/scikit-learn/scikit-learn/issues/21755 */display: inline-block !important;position: relative;}#sk-container-id-2 div.sk-text-repr-fallback {display: none;}</style><div id=\"sk-container-id-2\" class=\"sk-top-container\"><div class=\"sk-text-repr-fallback\"><pre>OneClassSVM(gamma=&#x27;auto&#x27;)</pre><b>In a Jupyter environment, please rerun this cell to show the HTML representation or trust the notebook. <br />On GitHub, the HTML representation is unable to render, please try loading this page with nbviewer.org.</b></div><div class=\"sk-container\" hidden><div class=\"sk-item\"><div class=\"sk-estimator sk-toggleable\"><input class=\"sk-toggleable__control sk-hidden--visually\" id=\"sk-estimator-id-2\" type=\"checkbox\" checked><label for=\"sk-estimator-id-2\" class=\"sk-toggleable__label sk-toggleable__label-arrow\">OneClassSVM</label><div class=\"sk-toggleable__content\"><pre>OneClassSVM(gamma=&#x27;auto&#x27;)</pre></div></div></div></div></div>"
            ],
            "text/plain": [
              "OneClassSVM(gamma='auto')"
            ]
          },
          "execution_count": 29,
          "metadata": {},
          "output_type": "execute_result"
        }
      ],
      "source": [
        "clf2.fit(Train_nor['data'])"
      ]
    },
    {
      "cell_type": "code",
      "execution_count": null,
      "metadata": {},
      "outputs": [],
      "source": [
        "y_pred3 = clf2.predict(test['data'])"
      ]
    },
    {
      "cell_type": "code",
      "execution_count": null,
      "metadata": {},
      "outputs": [
        {
          "name": "stdout",
          "output_type": "stream",
          "text": [
            "0.57305\n"
          ]
        }
      ],
      "source": [
        "y_pred_strings = np.where(y_pred3 == -1, \"Abnormal\", \"Normal\")\n",
        "accuracy4 = accuracy_score(test['label'], y_pred_strings)\n",
        "print(accuracy4)"
      ]
    },
    {
      "cell_type": "code",
      "execution_count": null,
      "metadata": {},
      "outputs": [
        {
          "name": "stdout",
          "output_type": "stream",
          "text": [
            "0.57553125\n"
          ]
        }
      ],
      "source": [
        "y_pred_strings = np.where(y_pred3 == -1, \"Abnormal\", \"Normal\")\n",
        "accuracy3 = accuracy_score(label, y_pred_strings)\n",
        "print(accuracy3)"
      ]
    }
  ],
  "metadata": {
    "accelerator": "GPU",
    "colab": {
      "gpuType": "T4",
      "provenance": []
    },
    "kernelspec": {
      "display_name": "Python 3",
      "name": "python3"
    },
    "language_info": {
      "codemirror_mode": {
        "name": "ipython",
        "version": 3
      },
      "file_extension": ".py",
      "mimetype": "text/x-python",
      "name": "python",
      "nbconvert_exporter": "python",
      "pygments_lexer": "ipython3",
      "version": "3.10.6"
    }
  },
  "nbformat": 4,
  "nbformat_minor": 0
}
